{
 "cells": [
  {
   "cell_type": "markdown",
   "metadata": {
    "_uuid": "1c22ce8fccfdc14bb2317af5b347a614fbc6fb99"
   },
   "source": [
    "## Titanic Competition for GCI 2019 Winter 7th Place Solution\n",
    "2020/01/19"
   ]
  },
  {
   "cell_type": "markdown",
   "metadata": {},
   "source": [
    "MEMO\n",
    "\n",
    "- 前処理/特徴量エンジニアリング\n",
    "  - 欠損値の補完\n",
    "  - ラベルエンコーディング\n",
    "  - 特徴量作成 (FamilySize, Title_Group等)\n",
    "  - テキストデータから特徴抽出 (Name, Ticket)\n",
    "  - カウントエンコーディング\n",
    "  - ターゲットエンコーディング\n",
    "\n",
    "- モデル\n",
    "  - LightGBM (特に工夫したところはなし)\n",
    "  - XGBoost (特に工夫したところはなし)\n",
    "  - Neural Network (Keras利用、再現性確保できず。。)\n",
    "  \n",
    "- 予測\n",
    "  - 3つのモデルの予測結果(確率)の算術平均"
   ]
  },
  {
   "cell_type": "markdown",
   "metadata": {
    "_uuid": "b593960a17d2849ddb87befeab59fa4388a877cb"
   },
   "source": [
    "## 1. Load Module"
   ]
  },
  {
   "cell_type": "code",
   "execution_count": 1,
   "metadata": {
    "_cell_guid": "b1076dfc-b9ad-4769-8c92-a6c4dae69d19",
    "_uuid": "8f2839f25d086af736a60e9eeb907d3b93b6e0e5"
   },
   "outputs": [],
   "source": [
    "%matplotlib inline\n",
    "\n",
    "import os\n",
    "import pandas as pd\n",
    "import pandas_profiling as pdp\n",
    "import numpy as np\n",
    "import matplotlib as mpl\n",
    "import matplotlib.pyplot as plt\n",
    "import seaborn as sns\n",
    "import random\n",
    "from tqdm import tqdm\n",
    "\n",
    "from sklearn.model_selection import KFold, StratifiedKFold\n",
    "from sklearn.metrics import accuracy_score, roc_auc_score\n",
    "from sklearn.feature_extraction.text import TfidfVectorizer\n",
    "from sklearn.decomposition import TruncatedSVD\n",
    "\n",
    "import warnings\n",
    "warnings.filterwarnings('ignore')"
   ]
  },
  {
   "cell_type": "code",
   "execution_count": 2,
   "metadata": {
    "_cell_guid": "79c7e3d0-c299-4dcb-8224-4455121ee9b0",
    "_uuid": "d629ff2d2480ee46fbb7e2d37f6b5fab8052498a"
   },
   "outputs": [],
   "source": [
    "import lightgbm as lgb\n",
    "import xgboost as xgb"
   ]
  },
  {
   "cell_type": "code",
   "execution_count": 3,
   "metadata": {},
   "outputs": [
    {
     "name": "stderr",
     "output_type": "stream",
     "text": [
      "Using TensorFlow backend.\n"
     ]
    }
   ],
   "source": [
    "from keras.models import Sequential, Model\n",
    "from keras.layers import Dense, Flatten, Input, Activation, Add, Dropout, BatchNormalization\n",
    "from keras.utils import to_categorical\n",
    "from keras.callbacks import EarlyStopping, LearningRateScheduler\n",
    "from keras.optimizers import Adam\n",
    "from keras import backend as K\n",
    "\n",
    "from sklearn.model_selection import train_test_split\n",
    "from sklearn.preprocessing import StandardScaler"
   ]
  },
  {
   "cell_type": "code",
   "execution_count": 4,
   "metadata": {},
   "outputs": [],
   "source": [
    "# Set pandas max_columns and max_rows\n",
    "pd.set_option('display.max_columns', 500)\n",
    "pd.set_option('display.max_rows', 200)"
   ]
  },
  {
   "cell_type": "markdown",
   "metadata": {
    "_uuid": "c9c8be5aff700f778751192d87b8b0f53822e3dd"
   },
   "source": [
    "## 2. Load Data"
   ]
  },
  {
   "cell_type": "code",
   "execution_count": 5,
   "metadata": {},
   "outputs": [
    {
     "name": "stdout",
     "output_type": "stream",
     "text": [
      "['true-sub', 'titanic']\n"
     ]
    }
   ],
   "source": [
    "print(os.listdir(\"../input\"))"
   ]
  },
  {
   "cell_type": "code",
   "execution_count": 6,
   "metadata": {
    "_uuid": "b14fbb2776155cf25369e6589e75b4999e480c84"
   },
   "outputs": [
    {
     "name": "stdout",
     "output_type": "stream",
     "text": [
      "(891, 12) (418, 11) (418, 2) (418, 2)\n"
     ]
    }
   ],
   "source": [
    "# Read CSV file\n",
    "df_train = pd.read_csv('../input/titanic/train.csv')\n",
    "df_test = pd.read_csv('../input/titanic/test.csv')\n",
    "df_sub = pd.read_csv('../input/titanic/gender_submission.csv')\n",
    "df_true_sub = pd.read_csv('../input/true-sub/titanic_true_sub.csv')\n",
    "\n",
    "# Confirm\n",
    "print(df_train.shape, df_test.shape, df_sub.shape, df_true_sub.shape)"
   ]
  },
  {
   "cell_type": "code",
   "execution_count": 7,
   "metadata": {},
   "outputs": [
    {
     "data": {
      "text/html": [
       "<div>\n",
       "<style scoped>\n",
       "    .dataframe tbody tr th:only-of-type {\n",
       "        vertical-align: middle;\n",
       "    }\n",
       "\n",
       "    .dataframe tbody tr th {\n",
       "        vertical-align: top;\n",
       "    }\n",
       "\n",
       "    .dataframe thead th {\n",
       "        text-align: right;\n",
       "    }\n",
       "</style>\n",
       "<table border=\"1\" class=\"dataframe\">\n",
       "  <thead>\n",
       "    <tr style=\"text-align: right;\">\n",
       "      <th></th>\n",
       "      <th>PassengerId</th>\n",
       "      <th>Survived</th>\n",
       "      <th>Pclass</th>\n",
       "      <th>Name</th>\n",
       "      <th>Sex</th>\n",
       "      <th>Age</th>\n",
       "      <th>SibSp</th>\n",
       "      <th>Parch</th>\n",
       "      <th>Ticket</th>\n",
       "      <th>Fare</th>\n",
       "      <th>Cabin</th>\n",
       "      <th>Embarked</th>\n",
       "    </tr>\n",
       "  </thead>\n",
       "  <tbody>\n",
       "    <tr>\n",
       "      <td>0</td>\n",
       "      <td>1</td>\n",
       "      <td>0.0</td>\n",
       "      <td>3</td>\n",
       "      <td>Braund, Mr. Owen Harris</td>\n",
       "      <td>male</td>\n",
       "      <td>22.0</td>\n",
       "      <td>1</td>\n",
       "      <td>0</td>\n",
       "      <td>A/5 21171</td>\n",
       "      <td>7.2500</td>\n",
       "      <td>NaN</td>\n",
       "      <td>S</td>\n",
       "    </tr>\n",
       "    <tr>\n",
       "      <td>1</td>\n",
       "      <td>2</td>\n",
       "      <td>1.0</td>\n",
       "      <td>1</td>\n",
       "      <td>Cumings, Mrs. John Bradley (Florence Briggs Th...</td>\n",
       "      <td>female</td>\n",
       "      <td>38.0</td>\n",
       "      <td>1</td>\n",
       "      <td>0</td>\n",
       "      <td>PC 17599</td>\n",
       "      <td>71.2833</td>\n",
       "      <td>C85</td>\n",
       "      <td>C</td>\n",
       "    </tr>\n",
       "    <tr>\n",
       "      <td>2</td>\n",
       "      <td>3</td>\n",
       "      <td>1.0</td>\n",
       "      <td>3</td>\n",
       "      <td>Heikkinen, Miss. Laina</td>\n",
       "      <td>female</td>\n",
       "      <td>26.0</td>\n",
       "      <td>0</td>\n",
       "      <td>0</td>\n",
       "      <td>STON/O2. 3101282</td>\n",
       "      <td>7.9250</td>\n",
       "      <td>NaN</td>\n",
       "      <td>S</td>\n",
       "    </tr>\n",
       "    <tr>\n",
       "      <td>3</td>\n",
       "      <td>4</td>\n",
       "      <td>1.0</td>\n",
       "      <td>1</td>\n",
       "      <td>Futrelle, Mrs. Jacques Heath (Lily May Peel)</td>\n",
       "      <td>female</td>\n",
       "      <td>35.0</td>\n",
       "      <td>1</td>\n",
       "      <td>0</td>\n",
       "      <td>113803</td>\n",
       "      <td>53.1000</td>\n",
       "      <td>C123</td>\n",
       "      <td>S</td>\n",
       "    </tr>\n",
       "    <tr>\n",
       "      <td>4</td>\n",
       "      <td>5</td>\n",
       "      <td>0.0</td>\n",
       "      <td>3</td>\n",
       "      <td>Allen, Mr. William Henry</td>\n",
       "      <td>male</td>\n",
       "      <td>35.0</td>\n",
       "      <td>0</td>\n",
       "      <td>0</td>\n",
       "      <td>373450</td>\n",
       "      <td>8.0500</td>\n",
       "      <td>NaN</td>\n",
       "      <td>S</td>\n",
       "    </tr>\n",
       "    <tr>\n",
       "      <td>5</td>\n",
       "      <td>6</td>\n",
       "      <td>0.0</td>\n",
       "      <td>3</td>\n",
       "      <td>Moran, Mr. James</td>\n",
       "      <td>male</td>\n",
       "      <td>NaN</td>\n",
       "      <td>0</td>\n",
       "      <td>0</td>\n",
       "      <td>330877</td>\n",
       "      <td>8.4583</td>\n",
       "      <td>NaN</td>\n",
       "      <td>Q</td>\n",
       "    </tr>\n",
       "    <tr>\n",
       "      <td>6</td>\n",
       "      <td>7</td>\n",
       "      <td>0.0</td>\n",
       "      <td>1</td>\n",
       "      <td>McCarthy, Mr. Timothy J</td>\n",
       "      <td>male</td>\n",
       "      <td>54.0</td>\n",
       "      <td>0</td>\n",
       "      <td>0</td>\n",
       "      <td>17463</td>\n",
       "      <td>51.8625</td>\n",
       "      <td>E46</td>\n",
       "      <td>S</td>\n",
       "    </tr>\n",
       "    <tr>\n",
       "      <td>7</td>\n",
       "      <td>8</td>\n",
       "      <td>0.0</td>\n",
       "      <td>3</td>\n",
       "      <td>Palsson, Master. Gosta Leonard</td>\n",
       "      <td>male</td>\n",
       "      <td>2.0</td>\n",
       "      <td>3</td>\n",
       "      <td>1</td>\n",
       "      <td>349909</td>\n",
       "      <td>21.0750</td>\n",
       "      <td>NaN</td>\n",
       "      <td>S</td>\n",
       "    </tr>\n",
       "    <tr>\n",
       "      <td>8</td>\n",
       "      <td>9</td>\n",
       "      <td>1.0</td>\n",
       "      <td>3</td>\n",
       "      <td>Johnson, Mrs. Oscar W (Elisabeth Vilhelmina Berg)</td>\n",
       "      <td>female</td>\n",
       "      <td>27.0</td>\n",
       "      <td>0</td>\n",
       "      <td>2</td>\n",
       "      <td>347742</td>\n",
       "      <td>11.1333</td>\n",
       "      <td>NaN</td>\n",
       "      <td>S</td>\n",
       "    </tr>\n",
       "    <tr>\n",
       "      <td>9</td>\n",
       "      <td>10</td>\n",
       "      <td>1.0</td>\n",
       "      <td>2</td>\n",
       "      <td>Nasser, Mrs. Nicholas (Adele Achem)</td>\n",
       "      <td>female</td>\n",
       "      <td>14.0</td>\n",
       "      <td>1</td>\n",
       "      <td>0</td>\n",
       "      <td>237736</td>\n",
       "      <td>30.0708</td>\n",
       "      <td>NaN</td>\n",
       "      <td>C</td>\n",
       "    </tr>\n",
       "  </tbody>\n",
       "</table>\n",
       "</div>"
      ],
      "text/plain": [
       "   PassengerId  Survived  Pclass  \\\n",
       "0            1       0.0       3   \n",
       "1            2       1.0       1   \n",
       "2            3       1.0       3   \n",
       "3            4       1.0       1   \n",
       "4            5       0.0       3   \n",
       "5            6       0.0       3   \n",
       "6            7       0.0       1   \n",
       "7            8       0.0       3   \n",
       "8            9       1.0       3   \n",
       "9           10       1.0       2   \n",
       "\n",
       "                                                Name     Sex   Age  SibSp  \\\n",
       "0                            Braund, Mr. Owen Harris    male  22.0      1   \n",
       "1  Cumings, Mrs. John Bradley (Florence Briggs Th...  female  38.0      1   \n",
       "2                             Heikkinen, Miss. Laina  female  26.0      0   \n",
       "3       Futrelle, Mrs. Jacques Heath (Lily May Peel)  female  35.0      1   \n",
       "4                           Allen, Mr. William Henry    male  35.0      0   \n",
       "5                                   Moran, Mr. James    male   NaN      0   \n",
       "6                            McCarthy, Mr. Timothy J    male  54.0      0   \n",
       "7                     Palsson, Master. Gosta Leonard    male   2.0      3   \n",
       "8  Johnson, Mrs. Oscar W (Elisabeth Vilhelmina Berg)  female  27.0      0   \n",
       "9                Nasser, Mrs. Nicholas (Adele Achem)  female  14.0      1   \n",
       "\n",
       "   Parch            Ticket     Fare Cabin Embarked  \n",
       "0      0         A/5 21171   7.2500   NaN        S  \n",
       "1      0          PC 17599  71.2833   C85        C  \n",
       "2      0  STON/O2. 3101282   7.9250   NaN        S  \n",
       "3      0            113803  53.1000  C123        S  \n",
       "4      0            373450   8.0500   NaN        S  \n",
       "5      0            330877   8.4583   NaN        Q  \n",
       "6      0             17463  51.8625   E46        S  \n",
       "7      1            349909  21.0750   NaN        S  \n",
       "8      2            347742  11.1333   NaN        S  \n",
       "9      0            237736  30.0708   NaN        C  "
      ]
     },
     "execution_count": 7,
     "metadata": {},
     "output_type": "execute_result"
    }
   ],
   "source": [
    "# Merge df_train and df_test\n",
    "df_alldata = pd.concat([df_train, df_test], sort=False)\n",
    "df_alldata.head(10)"
   ]
  },
  {
   "cell_type": "markdown",
   "metadata": {
    "_uuid": "083ecfc8898369eb755b86f2976ad0c6a7b91eb2"
   },
   "source": [
    "## 3. Check Data"
   ]
  },
  {
   "cell_type": "code",
   "execution_count": 8,
   "metadata": {
    "_uuid": "87bb0fba0134f0093980fb2d5920ffc003d9fea4"
   },
   "outputs": [
    {
     "name": "stdout",
     "output_type": "stream",
     "text": [
      "<class 'pandas.core.frame.DataFrame'>\n",
      "RangeIndex: 891 entries, 0 to 890\n",
      "Data columns (total 12 columns):\n",
      "PassengerId    891 non-null int64\n",
      "Survived       891 non-null int64\n",
      "Pclass         891 non-null int64\n",
      "Name           891 non-null object\n",
      "Sex            891 non-null object\n",
      "Age            714 non-null float64\n",
      "SibSp          891 non-null int64\n",
      "Parch          891 non-null int64\n",
      "Ticket         891 non-null object\n",
      "Fare           891 non-null float64\n",
      "Cabin          204 non-null object\n",
      "Embarked       889 non-null object\n",
      "dtypes: float64(2), int64(5), object(5)\n",
      "memory usage: 83.7+ KB\n"
     ]
    }
   ],
   "source": [
    "df_train.info()"
   ]
  },
  {
   "cell_type": "code",
   "execution_count": 9,
   "metadata": {
    "_uuid": "4faccf45428899addcdcb01777ce1fb65dbed905"
   },
   "outputs": [
    {
     "data": {
      "text/plain": [
       "PassengerId      0\n",
       "Survived         0\n",
       "Pclass           0\n",
       "Name             0\n",
       "Sex              0\n",
       "Age            177\n",
       "SibSp            0\n",
       "Parch            0\n",
       "Ticket           0\n",
       "Fare             0\n",
       "Cabin          687\n",
       "Embarked         2\n",
       "dtype: int64"
      ]
     },
     "execution_count": 9,
     "metadata": {},
     "output_type": "execute_result"
    }
   ],
   "source": [
    "df_train.isnull().sum()"
   ]
  },
  {
   "cell_type": "code",
   "execution_count": 10,
   "metadata": {
    "_uuid": "d867647a4267d5dc5b35210ccda991ed4457f79e"
   },
   "outputs": [
    {
     "name": "stdout",
     "output_type": "stream",
     "text": [
      "<class 'pandas.core.frame.DataFrame'>\n",
      "RangeIndex: 418 entries, 0 to 417\n",
      "Data columns (total 11 columns):\n",
      "PassengerId    418 non-null int64\n",
      "Pclass         418 non-null int64\n",
      "Name           418 non-null object\n",
      "Sex            418 non-null object\n",
      "Age            332 non-null float64\n",
      "SibSp          418 non-null int64\n",
      "Parch          418 non-null int64\n",
      "Ticket         418 non-null object\n",
      "Fare           417 non-null float64\n",
      "Cabin          91 non-null object\n",
      "Embarked       418 non-null object\n",
      "dtypes: float64(2), int64(4), object(5)\n",
      "memory usage: 36.0+ KB\n"
     ]
    }
   ],
   "source": [
    "df_test.info()"
   ]
  },
  {
   "cell_type": "code",
   "execution_count": 11,
   "metadata": {
    "_uuid": "ab69dd0d4e6a6cc023eb8dacd4fde366db485d82"
   },
   "outputs": [
    {
     "data": {
      "text/plain": [
       "PassengerId      0\n",
       "Pclass           0\n",
       "Name             0\n",
       "Sex              0\n",
       "Age             86\n",
       "SibSp            0\n",
       "Parch            0\n",
       "Ticket           0\n",
       "Fare             1\n",
       "Cabin          327\n",
       "Embarked         0\n",
       "dtype: int64"
      ]
     },
     "execution_count": 11,
     "metadata": {},
     "output_type": "execute_result"
    }
   ],
   "source": [
    "df_test.isnull().sum()"
   ]
  },
  {
   "cell_type": "code",
   "execution_count": 12,
   "metadata": {},
   "outputs": [],
   "source": [
    "# pandas-profiling\n",
    "#pdp.ProfileReport(df_train)"
   ]
  },
  {
   "cell_type": "markdown",
   "metadata": {
    "_uuid": "9523bf8377de86ef2ec1bf0522fe4a3602fe3971"
   },
   "source": [
    "## 4. Preprocess and Feature Engineering"
   ]
  },
  {
   "cell_type": "markdown",
   "metadata": {
    "_uuid": "8296b62bc0381b5daf40918de3512bfd41dcba22"
   },
   "source": [
    "### 4-1. Impute Missing Values"
   ]
  },
  {
   "cell_type": "code",
   "execution_count": 13,
   "metadata": {
    "_uuid": "494aecdbf3f9c3091cf2bf3e5865d6e7315e6197"
   },
   "outputs": [],
   "source": [
    "### Age\n",
    "Age_by_Pclass = list(df_alldata.groupby('Pclass')['Age'].mean())\n",
    "\n",
    "def complement_age(cols):\n",
    "    Age = cols[0]\n",
    "    Pclass = cols[1]\n",
    "    if pd.isnull(Age):\n",
    "        if Pclass == 1:\n",
    "            return Age_by_Pclass[0]\n",
    "        elif Pclass == 2:\n",
    "            return Age_by_Pclass[1]\n",
    "        else:\n",
    "            return Age_by_Pclass[2]\n",
    "    else:\n",
    "        return Age\n",
    "\n",
    "df_train['Age'] = df_train[['Age','Pclass']].apply(complement_age, axis = 1)\n",
    "df_test['Age'] = df_test[['Age', 'Pclass']].apply(complement_age, axis = 1)"
   ]
  },
  {
   "cell_type": "code",
   "execution_count": 14,
   "metadata": {
    "_uuid": "1c6ef1bea4ea380a2d91d6e15d3400818704c444"
   },
   "outputs": [],
   "source": [
    "### Embarked\n",
    "df_train['Embarked'].fillna('C', inplace=True)\n",
    "df_test['Embarked'].fillna('C', inplace=True)"
   ]
  },
  {
   "cell_type": "code",
   "execution_count": 15,
   "metadata": {
    "_uuid": "381d35b9c97bb1db5733631901f0a2902753aea6"
   },
   "outputs": [
    {
     "name": "stdout",
     "output_type": "stream",
     "text": [
      "Fare missing ID: [1044]\n",
      "Fare missing Pclass: [3]\n",
      "[87.5089916408668, 21.1791963898917, 13.302888700564969]\n"
     ]
    },
    {
     "data": {
      "text/html": [
       "<div>\n",
       "<style scoped>\n",
       "    .dataframe tbody tr th:only-of-type {\n",
       "        vertical-align: middle;\n",
       "    }\n",
       "\n",
       "    .dataframe tbody tr th {\n",
       "        vertical-align: top;\n",
       "    }\n",
       "\n",
       "    .dataframe thead th {\n",
       "        text-align: right;\n",
       "    }\n",
       "</style>\n",
       "<table border=\"1\" class=\"dataframe\">\n",
       "  <thead>\n",
       "    <tr style=\"text-align: right;\">\n",
       "      <th></th>\n",
       "      <th>PassengerId</th>\n",
       "      <th>Pclass</th>\n",
       "      <th>Name</th>\n",
       "      <th>Sex</th>\n",
       "      <th>Age</th>\n",
       "      <th>SibSp</th>\n",
       "      <th>Parch</th>\n",
       "      <th>Ticket</th>\n",
       "      <th>Fare</th>\n",
       "      <th>Cabin</th>\n",
       "      <th>Embarked</th>\n",
       "    </tr>\n",
       "  </thead>\n",
       "  <tbody>\n",
       "    <tr>\n",
       "      <td>152</td>\n",
       "      <td>1044</td>\n",
       "      <td>3</td>\n",
       "      <td>Storey, Mr. Thomas</td>\n",
       "      <td>male</td>\n",
       "      <td>60.5</td>\n",
       "      <td>0</td>\n",
       "      <td>0</td>\n",
       "      <td>3701</td>\n",
       "      <td>13.302889</td>\n",
       "      <td>NaN</td>\n",
       "      <td>S</td>\n",
       "    </tr>\n",
       "  </tbody>\n",
       "</table>\n",
       "</div>"
      ],
      "text/plain": [
       "     PassengerId  Pclass                Name   Sex   Age  SibSp  Parch Ticket  \\\n",
       "152         1044       3  Storey, Mr. Thomas  male  60.5      0      0   3701   \n",
       "\n",
       "          Fare Cabin Embarked  \n",
       "152  13.302889   NaN        S  "
      ]
     },
     "execution_count": 15,
     "metadata": {},
     "output_type": "execute_result"
    }
   ],
   "source": [
    "### Fare (only one record of df_test)\n",
    "Fare_missing_Id = list(df_test['PassengerId'][df_test['Fare'].isnull() == True])\n",
    "Fare_missing_Pclass = list(df_test['Pclass'][df_test['Fare'].isnull() == True])\n",
    "print('Fare missing ID:', Fare_missing_Id)\n",
    "print('Fare missing Pclass:', Fare_missing_Pclass)\n",
    "\n",
    "Fare_by_Pclass = list(df_alldata.groupby('Pclass')['Fare'].mean())\n",
    "print(Fare_by_Pclass)\n",
    "\n",
    "df_test.loc[df_test['PassengerId'] == Fare_missing_Id[0], 'Fare'] = Fare_by_Pclass[Fare_missing_Pclass[0]-1]\n",
    "\n",
    "# Confirm\n",
    "df_test[df_test['PassengerId'] == Fare_missing_Id[0]]"
   ]
  },
  {
   "cell_type": "code",
   "execution_count": 16,
   "metadata": {},
   "outputs": [],
   "source": [
    "### Cabin\n",
    "df_train.fillna({'Cabin':'9999'}, inplace=True)\n",
    "df_test.fillna({'Cabin':'9999'}, inplace=True)"
   ]
  },
  {
   "cell_type": "code",
   "execution_count": 17,
   "metadata": {
    "_uuid": "2237fd7b1343fc9426232d197af4bdda2c3d6d0a"
   },
   "outputs": [
    {
     "data": {
      "text/plain": [
       "PassengerId    0\n",
       "Survived       0\n",
       "Pclass         0\n",
       "Name           0\n",
       "Sex            0\n",
       "Age            0\n",
       "SibSp          0\n",
       "Parch          0\n",
       "Ticket         0\n",
       "Fare           0\n",
       "Cabin          0\n",
       "Embarked       0\n",
       "dtype: int64"
      ]
     },
     "execution_count": 17,
     "metadata": {},
     "output_type": "execute_result"
    }
   ],
   "source": [
    "# Confirm df_train\n",
    "df_train.isnull().sum()"
   ]
  },
  {
   "cell_type": "code",
   "execution_count": 18,
   "metadata": {
    "_uuid": "06ded3921c7dd8781dc9c897775201c92e7f575a"
   },
   "outputs": [
    {
     "data": {
      "text/plain": [
       "PassengerId    0\n",
       "Pclass         0\n",
       "Name           0\n",
       "Sex            0\n",
       "Age            0\n",
       "SibSp          0\n",
       "Parch          0\n",
       "Ticket         0\n",
       "Fare           0\n",
       "Cabin          0\n",
       "Embarked       0\n",
       "dtype: int64"
      ]
     },
     "execution_count": 18,
     "metadata": {},
     "output_type": "execute_result"
    }
   ],
   "source": [
    "# Confirm df_test\n",
    "df_test.isnull().sum()"
   ]
  },
  {
   "cell_type": "markdown",
   "metadata": {
    "_uuid": "bd883e288b65456b336438d4687a75b651fbbe99"
   },
   "source": [
    "### 4-2. Label Encoding"
   ]
  },
  {
   "cell_type": "code",
   "execution_count": 19,
   "metadata": {
    "_uuid": "9b0c887bc2439dbbc8fa22dd51fa2452b479ef2f"
   },
   "outputs": [],
   "source": [
    "### Sex\n",
    "df_train['Sex'] = df_train['Sex'].map({'male': 0, 'female': 1})\n",
    "df_test['Sex'] = df_test['Sex'].map({'male': 0, 'female': 1})"
   ]
  },
  {
   "cell_type": "code",
   "execution_count": 20,
   "metadata": {
    "_uuid": "80f7b0d2ca5b7b5d25cc90b7cfd58f4ff2ead137"
   },
   "outputs": [],
   "source": [
    "### Embarked\n",
    "df_train['Embarked'] = df_train['Embarked'].map({'S': 0, 'C': 1, 'Q': 2}).astype(int)\n",
    "df_test['Embarked'] = df_test['Embarked'].map({'S': 0, 'C': 1, 'Q': 2}).astype(int)"
   ]
  },
  {
   "cell_type": "markdown",
   "metadata": {
    "_uuid": "a873de5b04e3d63a7c3669fc9bc60165c7feb570"
   },
   "source": [
    "### 4-3. Create New Features"
   ]
  },
  {
   "cell_type": "code",
   "execution_count": 21,
   "metadata": {
    "_uuid": "958531273a8b35e1e0d6145fe557d172d81ef3e7"
   },
   "outputs": [],
   "source": [
    "### FamilySize\n",
    "df_train['FamilySize'] = df_train['SibSp'] + df_train['Parch'] + 1\n",
    "df_test['FamilySize'] = df_test['SibSp'] + df_test['Parch'] + 1"
   ]
  },
  {
   "cell_type": "code",
   "execution_count": 22,
   "metadata": {
    "_uuid": "e589946523a6648a9e948d2b966067e158c5d8f7"
   },
   "outputs": [],
   "source": [
    "### IsAlone (Whether or not to board alone)\n",
    "df_train['IsAlone'] = 0\n",
    "df_test['IsAlone'] = 0\n",
    "df_train.loc[df_train['FamilySize'] == 1, 'IsAlone'] = 1\n",
    "df_test.loc[df_test['FamilySize'] == 1, 'IsAlone'] = 1"
   ]
  },
  {
   "cell_type": "code",
   "execution_count": 23,
   "metadata": {
    "_uuid": "238aba1116f3f3ef18c140906d3a1aa41c510660"
   },
   "outputs": [],
   "source": [
    "### Title_Group\n",
    "\n",
    "# Extract Title\n",
    "df_train['Title'] = df_train.Name.str.extract(' ([A-Za-z]+)\\.', expand=False)\n",
    "df_test['Title'] = df_test.Name.str.extract(' ([A-Za-z]+)\\.', expand=False)\n",
    "\n",
    "# Set Title_Group list\n",
    "Mr = ['Mr']\n",
    "Crew1 = ['Don', 'Rev', 'Capt']\n",
    "Crew2 = ['Major', 'Col', 'Dr']\n",
    "Women_Masters = ['Mrs', 'Miss', 'Master']\n",
    "Affluence = ['Mme', 'Ms', 'Lady', 'Sir', 'Mlle', 'Countess', 'Jonkheer']\n",
    "\n",
    "# Create Title_Group Feature\n",
    "dataset = [df_train, df_test]\n",
    "for train_set in dataset:\n",
    "    train_set['Title_Group'] = 0\n",
    "    train_set['Title_Group'] = np.where(train_set['Title'].isin(Mr), 0, train_set['Title_Group'])\n",
    "    train_set['Title_Group'] = np.where(train_set['Title'].isin(Crew1), 1, train_set['Title_Group'])\n",
    "    train_set['Title_Group'] = np.where(train_set['Title'].isin(Crew2), 2, train_set['Title_Group'])\n",
    "    train_set['Title_Group'] = np.where(train_set['Title'].isin(Women_Masters), 3, train_set['Title_Group'])\n",
    "    train_set['Title_Group'] = np.where(train_set['Title'].isin(Affluence), 4, train_set['Title_Group'])\n",
    "    train_set['Title_Group'] = train_set['Title_Group'].astype(int)"
   ]
  },
  {
   "cell_type": "code",
   "execution_count": 24,
   "metadata": {
    "_uuid": "d3aa505ad1eace05202ae4bf76ea3aadfac63dee"
   },
   "outputs": [],
   "source": [
    "### CabinBool (Cabin is blank or not)\n",
    "df_train[\"CabinBool\"] = (df_train[\"Cabin\"]=='9999').astype(int)\n",
    "df_test[\"CabinBool\"] = (df_test[\"Cabin\"]=='9999').astype(int)"
   ]
  },
  {
   "cell_type": "markdown",
   "metadata": {},
   "source": [
    "### 4-4. Extract Features from Text Data"
   ]
  },
  {
   "cell_type": "code",
   "execution_count": 25,
   "metadata": {},
   "outputs": [
    {
     "data": {
      "text/plain": [
       "\"\\n# Merge df_train & df_test\\ndf_train['data_set'] = 'train'\\ndf_test['data_set']  = 'test'\\ndf_alldata = pd.concat([df_train, df_test])\\n\""
      ]
     },
     "execution_count": 25,
     "metadata": {},
     "output_type": "execute_result"
    }
   ],
   "source": [
    "#-------------------\n",
    "# 誤ったコード\n",
    "#-------------------\n",
    "\"\"\"\n",
    "# Merge df_train & df_test\n",
    "df_train['data_set'] = 'train'\n",
    "df_test['data_set']  = 'test'\n",
    "df_alldata = pd.concat([df_train, df_test])\n",
    "\"\"\""
   ]
  },
  {
   "cell_type": "code",
   "execution_count": 26,
   "metadata": {},
   "outputs": [],
   "source": [
    "#-------------------\n",
    "# 修正後のコード\n",
    "#-------------------\n",
    "# Merge df_train & df_test\n",
    "df_train['data_set'] = 'train'\n",
    "df_test['data_set']  = 'test'\n",
    "df_alldata = pd.concat([df_train, df_test], sort=False).reset_index(drop=True)"
   ]
  },
  {
   "cell_type": "code",
   "execution_count": 27,
   "metadata": {},
   "outputs": [],
   "source": [
    "# Define function (get_text_features)\n",
    "def get_text_features(text_column, text_column_name):\n",
    "    vectorizer = TfidfVectorizer(min_df=1, max_df=110)\n",
    "    tsvd = TruncatedSVD(n_components=64, random_state=227)\n",
    "    \n",
    "    tfidf_col = vectorizer.fit_transform(text_column.values)\n",
    "    svd_col = tsvd.fit_transform(tfidf_col)\n",
    "    svd_col = pd.DataFrame(svd_col).astype(np.float16)\n",
    "    svd_col = svd_col.add_prefix('SVD_{}_'.format(text_column_name))\n",
    "    \n",
    "    return svd_col"
   ]
  },
  {
   "cell_type": "code",
   "execution_count": 28,
   "metadata": {},
   "outputs": [],
   "source": [
    "# Get Text Features\n",
    "text_col = ['Name', 'Ticket']\n",
    "for col in text_col:\n",
    "    text_features = get_text_features(df_alldata[col], col)\n",
    "    df_alldata = pd.merge(df_alldata, text_features, right_index=True, left_index=True)        "
   ]
  },
  {
   "cell_type": "markdown",
   "metadata": {},
   "source": [
    "### 4-5. Count Encoding"
   ]
  },
  {
   "cell_type": "code",
   "execution_count": 29,
   "metadata": {},
   "outputs": [],
   "source": [
    "count_enc_list = ['Pclass', 'Sex', 'Embarked', 'FamilySize', 'IsAlone', 'Title_Group', 'CabinBool']\n",
    "for col in count_enc_list:\n",
    "    grouped = df_alldata.groupby(col).size().reset_index(name=col+'_count')\n",
    "    df_alldata = df_alldata.merge(grouped, how = \"left\", on = col)"
   ]
  },
  {
   "cell_type": "markdown",
   "metadata": {},
   "source": [
    "### 4-6. Target Encoding"
   ]
  },
  {
   "cell_type": "code",
   "execution_count": 30,
   "metadata": {},
   "outputs": [
    {
     "name": "stdout",
     "output_type": "stream",
     "text": [
      "(891, 153) (418, 153)\n"
     ]
    }
   ],
   "source": [
    "# Split data set\n",
    "df_train = df_alldata[df_alldata['data_set']=='train']\n",
    "df_test  = df_alldata[df_alldata['data_set']=='test']\n",
    "\n",
    "print(df_train.shape, df_test.shape)"
   ]
  },
  {
   "cell_type": "code",
   "execution_count": 31,
   "metadata": {},
   "outputs": [],
   "source": [
    "### Target Encoding for df_train\n",
    "\n",
    "# Set target_enc_list\n",
    "target_enc_list = [\"FamilySize\", \"Embarked\", \"Pclass\", \"CabinBool\", \"Title_Group\"]\n",
    "\n",
    "# number of Fold\n",
    "fold_num = 5\n",
    "\n",
    "# fix random seed for reproducibility\n",
    "seed = 227\n",
    "np.random.seed(seed)\n",
    "\n",
    "# Create column for target encoding\n",
    "for col in target_enc_list:\n",
    "    df_train[col+'_target'] = np.NaN\n",
    "\n",
    "# Defile kfold cross validation\n",
    "kfold = KFold(n_splits=fold_num, shuffle=True, random_state=seed)\n",
    "\n",
    "for fold_index, (train_index, valid_index) in enumerate(kfold.split(df_train)):\n",
    "    for col in target_enc_list:\n",
    "        target_mean = df_train.iloc[train_index].groupby(col).Survived.mean()\n",
    "        df_train[col+'_target'].iloc[valid_index] = df_train.iloc[valid_index][col].map(target_mean)"
   ]
  },
  {
   "cell_type": "code",
   "execution_count": 32,
   "metadata": {},
   "outputs": [],
   "source": [
    "### Target Encoding for df_test\n",
    "\n",
    "# Create column for target encoding\n",
    "for col in target_enc_list:\n",
    "    df_test[col+'_target'] = np.NaN\n",
    "\n",
    "# Create target encoding\n",
    "for col in target_enc_list:\n",
    "    target_mean = df_train.groupby(col).Survived.mean()\n",
    "    df_test[col+'_target'] = df_test[col].map(target_mean)"
   ]
  },
  {
   "cell_type": "code",
   "execution_count": 33,
   "metadata": {},
   "outputs": [
    {
     "name": "stdout",
     "output_type": "stream",
     "text": [
      "(891, 158) (418, 158)\n"
     ]
    }
   ],
   "source": [
    "# Confirm shape\n",
    "print(df_train.shape, df_test.shape)"
   ]
  },
  {
   "cell_type": "markdown",
   "metadata": {
    "_uuid": "87cebbe2af534d3453fdbed9586231032c6fc757"
   },
   "source": [
    "## 5. Train / Evaluate / Predict"
   ]
  },
  {
   "cell_type": "markdown",
   "metadata": {},
   "source": [
    "### 5-1. Create train and test data"
   ]
  },
  {
   "cell_type": "code",
   "execution_count": 34,
   "metadata": {
    "_uuid": "e182ce37167801884dce93a7a4f8113a957a31f3"
   },
   "outputs": [
    {
     "name": "stdout",
     "output_type": "stream",
     "text": [
      "(891, 147) (891,) (418, 147)\n"
     ]
    }
   ],
   "source": [
    "# Create x_train、 y_train、 x_test\n",
    "drop_col = ['Name', 'Age', 'Cabin', 'Ticket','SibSp','Parch', 'Fare', 'Title', 'PassengerId', 'Survived', 'data_set']\n",
    "x_train = df_train.drop(drop_col, axis=1)\n",
    "y_train = df_train['Survived']\n",
    "x_test = df_test.drop(drop_col, axis=1)\n",
    "\n",
    "# Confirm\n",
    "print(x_train.shape, y_train.shape, x_test.shape)"
   ]
  },
  {
   "cell_type": "markdown",
   "metadata": {},
   "source": [
    "### 5-2. LightGBM"
   ]
  },
  {
   "cell_type": "code",
   "execution_count": 35,
   "metadata": {},
   "outputs": [],
   "source": [
    "# Set parameters\n",
    "lgb_params = {\n",
    "    'objective': 'binary',\n",
    "    'metric': 'rmse',\n",
    "    'learning_rate': 0.005,\n",
    "    'max_depth': 5,\n",
    "    'bagging_freq': 1,\n",
    "    'num_leaves': 255,\n",
    "    'max_bin': 255,\n",
    "    'colsample_bytree': 0.8,\n",
    "    'subsample': 0.8,\n",
    "    'verbose': -1,\n",
    "    'nthread': -1,\n",
    "}"
   ]
  },
  {
   "cell_type": "code",
   "execution_count": 36,
   "metadata": {},
   "outputs": [],
   "source": [
    "# number of Fold\n",
    "fold_num = 5\n",
    "\n",
    "# Initialize y_preds\n",
    "y_preds_lgbm = np.zeros(x_test.shape[0])\n",
    "\n",
    "# fix random seed for reproducibility\n",
    "seed = 227\n",
    "np.random.seed(seed)\n",
    "\n",
    "# Defile kfold cross validation\n",
    "kfold = StratifiedKFold(n_splits=fold_num, shuffle=True, random_state=seed)\n",
    "cvscores_auc = []\n",
    "cvscores_acc = []"
   ]
  },
  {
   "cell_type": "code",
   "execution_count": 37,
   "metadata": {},
   "outputs": [
    {
     "name": "stdout",
     "output_type": "stream",
     "text": [
      "\n",
      " Train LightGBM:  1\n",
      "Training until validation scores don't improve for 500 rounds.\n",
      "[1000]\ttraining's rmse: 0.136148\tvalid_1's rmse: 0.345466\n",
      "Early stopping, best iteration is:\n",
      "[657]\ttraining's rmse: 0.198626\tvalid_1's rmse: 0.340213\n",
      "valid score AUC : 0.8993\n",
      "valid score Accuracy : 0.8436\n",
      "\n",
      " Train LightGBM:  2\n",
      "Training until validation scores don't improve for 500 rounds.\n",
      "[1000]\ttraining's rmse: 0.131885\tvalid_1's rmse: 0.354853\n",
      "Early stopping, best iteration is:\n",
      "[852]\ttraining's rmse: 0.156932\tvalid_1's rmse: 0.354383\n",
      "valid score AUC : 0.8791\n",
      "valid score Accuracy : 0.8212\n",
      "\n",
      " Train LightGBM:  3\n",
      "Training until validation scores don't improve for 500 rounds.\n",
      "[1000]\ttraining's rmse: 0.141706\tvalid_1's rmse: 0.307196\n",
      "Early stopping, best iteration is:\n",
      "[1361]\ttraining's rmse: 0.09587\tvalid_1's rmse: 0.305665\n",
      "valid score AUC : 0.9382\n",
      "valid score Accuracy : 0.8933\n",
      "\n",
      " Train LightGBM:  4\n",
      "Training until validation scores don't improve for 500 rounds.\n",
      "Early stopping, best iteration is:\n",
      "[296]\ttraining's rmse: 0.279503\tvalid_1's rmse: 0.395073\n",
      "valid score AUC : 0.8306\n",
      "valid score Accuracy : 0.7809\n",
      "\n",
      " Train LightGBM:  5\n",
      "Training until validation scores don't improve for 500 rounds.\n",
      "[1000]\ttraining's rmse: 0.12918\tvalid_1's rmse: 0.378326\n",
      "Early stopping, best iteration is:\n",
      "[1102]\ttraining's rmse: 0.114211\tvalid_1's rmse: 0.377481\n",
      "valid score AUC : 0.8529\n",
      "valid score Accuracy : 0.8023\n",
      "----------\n",
      "Cross Validation AUC:  0.8800 (+/- 0.04%)\n",
      "Cross Validation Accuracy:  0.8282 (+/- 0.04%)\n",
      "----------\n",
      "CPU times: user 1min 33s, sys: 1.17 s, total: 1min 34s\n",
      "Wall time: 24.7 s\n"
     ]
    }
   ],
   "source": [
    "%%time\n",
    "for fold_index, (train_index, valid_index) in enumerate(kfold.split(x_train, y_train)):\n",
    "    \n",
    "    # Create dataset for LightGBM\n",
    "    lgb_train = lgb.Dataset(x_train.iloc[train_index], y_train.iloc[train_index])\n",
    "    lgb_valid = lgb.Dataset(x_train.iloc[valid_index], y_train.iloc[valid_index])\n",
    "\n",
    "    # Train\n",
    "    print('\\n Train LightGBM: ', fold_index+1)\n",
    "    model_lgbm = lgb.train(params=lgb_params,\n",
    "                       train_set=lgb_train,\n",
    "                       valid_sets=[lgb_train, lgb_valid],\n",
    "                       num_boost_round=10000,\n",
    "                       early_stopping_rounds=500,\n",
    "                       verbose_eval=1000,\n",
    "                      )\n",
    "    \n",
    "    # Evaluate\n",
    "    y_valid_preds = model_lgbm.predict(x_train.iloc[valid_index], num_iteration=model_lgbm.best_iteration)\n",
    "    valid_score_auc = roc_auc_score(y_train.iloc[valid_index], y_valid_preds)\n",
    "    valid_score_acc = accuracy_score(y_train.iloc[valid_index], np.round(y_valid_preds).astype(np.int8))\n",
    "    print('valid score AUC :', \"%.4f\" % valid_score_auc)\n",
    "    print('valid score Accuracy :', \"%.4f\" % valid_score_acc)\n",
    "    cvscores_auc.append(valid_score_auc)\n",
    "    cvscores_acc.append(valid_score_acc)\n",
    "        \n",
    "    # Predict\n",
    "    y_preds_lgbm += model_lgbm.predict(x_test, num_iteration=model_lgbm.best_iteration) / fold_num\n",
    "    \n",
    "# Print CV\n",
    "print('-'*10)\n",
    "print('Cross Validation AUC: ',      \"%.4f (+/- %.2f%%)\" % (np.mean(cvscores_auc), np.std(cvscores_auc)))\n",
    "print('Cross Validation Accuracy: ', \"%.4f (+/- %.2f%%)\" % (np.mean(cvscores_acc), np.std(cvscores_acc)))\n",
    "print('-'*10)\n"
   ]
  },
  {
   "cell_type": "code",
   "execution_count": 38,
   "metadata": {},
   "outputs": [
    {
     "data": {
      "image/png": "[encoded data removed]",
      "text/plain": [
       "<Figure size 864x864 with 1 Axes>"
      ]
     },
     "metadata": {
      "needs_background": "light"
     },
     "output_type": "display_data"
    }
   ],
   "source": [
    "# Visualize Feature Importance of LightGBM\n",
    "lgb.plot_importance(model_lgbm, grid=True, max_num_features=50, importance_type='gain', figsize=(12, 12))\n",
    "plt.show()"
   ]
  },
  {
   "cell_type": "code",
   "execution_count": 39,
   "metadata": {},
   "outputs": [
    {
     "data": {
      "text/plain": [
       "array([0.10070846, 0.48076322, 0.0725243 , 0.10738702, 0.55377534,\n",
       "       0.08702269, 0.60745148, 0.29586575, 0.43156409, 0.17016504])"
      ]
     },
     "execution_count": 39,
     "metadata": {},
     "output_type": "execute_result"
    }
   ],
   "source": [
    "# Check y_preds\n",
    "y_preds_lgbm[:10]"
   ]
  },
  {
   "cell_type": "code",
   "execution_count": 40,
   "metadata": {},
   "outputs": [
    {
     "data": {
      "text/html": [
       "<div>\n",
       "<style scoped>\n",
       "    .dataframe tbody tr th:only-of-type {\n",
       "        vertical-align: middle;\n",
       "    }\n",
       "\n",
       "    .dataframe tbody tr th {\n",
       "        vertical-align: top;\n",
       "    }\n",
       "\n",
       "    .dataframe thead th {\n",
       "        text-align: right;\n",
       "    }\n",
       "</style>\n",
       "<table border=\"1\" class=\"dataframe\">\n",
       "  <thead>\n",
       "    <tr style=\"text-align: right;\">\n",
       "      <th></th>\n",
       "      <th>count</th>\n",
       "      <th>mean</th>\n",
       "      <th>std</th>\n",
       "      <th>min</th>\n",
       "      <th>25%</th>\n",
       "      <th>50%</th>\n",
       "      <th>75%</th>\n",
       "      <th>max</th>\n",
       "    </tr>\n",
       "  </thead>\n",
       "  <tbody>\n",
       "    <tr>\n",
       "      <td>0</td>\n",
       "      <td>418.0</td>\n",
       "      <td>0.374508</td>\n",
       "      <td>0.317137</td>\n",
       "      <td>0.042167</td>\n",
       "      <td>0.102719</td>\n",
       "      <td>0.214509</td>\n",
       "      <td>0.652063</td>\n",
       "      <td>0.949192</td>\n",
       "    </tr>\n",
       "  </tbody>\n",
       "</table>\n",
       "</div>"
      ],
      "text/plain": [
       "   count      mean       std       min       25%       50%       75%       max\n",
       "0  418.0  0.374508  0.317137  0.042167  0.102719  0.214509  0.652063  0.949192"
      ]
     },
     "execution_count": 40,
     "metadata": {},
     "output_type": "execute_result"
    }
   ],
   "source": [
    "# Check y_preds describe\n",
    "pd.DataFrame(y_preds_lgbm).describe().T"
   ]
  },
  {
   "cell_type": "code",
   "execution_count": 41,
   "metadata": {},
   "outputs": [
    {
     "data": {
      "image/png": "[encoded data removed]",
      "text/plain": [
       "<Figure size 432x288 with 1 Axes>"
      ]
     },
     "metadata": {
      "needs_background": "light"
     },
     "output_type": "display_data"
    },
    {
     "name": "stdout",
     "output_type": "stream",
     "text": [
      "0    0.667464\n",
      "1    0.332536\n",
      "dtype: float64\n"
     ]
    }
   ],
   "source": [
    "# Distribution of y_preds\n",
    "y_preds_lgbm_int = np.round(y_preds_lgbm).astype(np.int8)\n",
    "sns.countplot(x=0, data=pd.DataFrame(y_preds_lgbm_int))\n",
    "plt.show()\n",
    "\n",
    "print(pd.Series(y_preds_lgbm_int).value_counts(normalize=True))"
   ]
  },
  {
   "cell_type": "markdown",
   "metadata": {},
   "source": [
    "### 5-3. XGBoost"
   ]
  },
  {
   "cell_type": "code",
   "execution_count": 42,
   "metadata": {},
   "outputs": [],
   "source": [
    "# Set XGBoost parameters\n",
    "xgb_params = {\n",
    "    'objective' : 'binary:logistic',\n",
    "    'eval_metric': 'rmse',\n",
    "    'eta': 0.005,\n",
    "    'max_depth': 5,\n",
    "    'subsample': 0.8,\n",
    "    'colsample_bytree': 0.8,\n",
    "}"
   ]
  },
  {
   "cell_type": "code",
   "execution_count": 43,
   "metadata": {},
   "outputs": [],
   "source": [
    "# number fo CV\n",
    "fold_num = 5\n",
    "\n",
    "# Initialize y_pred\n",
    "y_preds_xgb = np.zeros(x_test.shape[0])\n",
    "\n",
    "# fix random seed for reproducibility\n",
    "seed = 227\n",
    "np.random.seed(seed)\n",
    "\n",
    "# Defile kfold cross validation\n",
    "kfold = StratifiedKFold(n_splits=fold_num, shuffle=True, random_state=seed)\n",
    "cvscores_auc = []\n",
    "cvscores_acc = []"
   ]
  },
  {
   "cell_type": "code",
   "execution_count": 44,
   "metadata": {},
   "outputs": [
    {
     "name": "stdout",
     "output_type": "stream",
     "text": [
      "\n",
      " Train XGBoost:  1\n",
      "[0]\ttrain-rmse:0.498466\tvalid-rmse:0.49873\n",
      "Multiple eval metrics have been passed: 'valid-rmse' will be used for early stopping.\n",
      "\n",
      "Will train until valid-rmse hasn't improved in 500 rounds.\n",
      "[500]\ttrain-rmse:0.205034\tvalid-rmse:0.336956\n",
      "[1000]\ttrain-rmse:0.111993\tvalid-rmse:0.335065\n",
      "Stopping. Best iteration:\n",
      "[853]\ttrain-rmse:0.132741\tvalid-rmse:0.334615\n",
      "\n",
      "valid score AUC : 0.8991\n",
      "valid score Accuracy : 0.8603\n",
      "\n",
      " Train XGBoost:  2\n",
      "[0]\ttrain-rmse:0.498415\tvalid-rmse:0.498775\n",
      "Multiple eval metrics have been passed: 'valid-rmse' will be used for early stopping.\n",
      "\n",
      "Will train until valid-rmse hasn't improved in 500 rounds.\n",
      "[500]\ttrain-rmse:0.205128\tvalid-rmse:0.354049\n",
      "[1000]\ttrain-rmse:0.112742\tvalid-rmse:0.350295\n",
      "[1500]\ttrain-rmse:0.069188\tvalid-rmse:0.352463\n",
      "Stopping. Best iteration:\n",
      "[1018]\ttrain-rmse:0.110481\tvalid-rmse:0.350123\n",
      "\n",
      "valid score AUC : 0.8872\n",
      "valid score Accuracy : 0.8324\n",
      "\n",
      " Train XGBoost:  3\n",
      "[0]\ttrain-rmse:0.498497\tvalid-rmse:0.498639\n",
      "Multiple eval metrics have been passed: 'valid-rmse' will be used for early stopping.\n",
      "\n",
      "Will train until valid-rmse hasn't improved in 500 rounds.\n",
      "[500]\ttrain-rmse:0.210436\tvalid-rmse:0.31423\n",
      "[1000]\ttrain-rmse:0.117259\tvalid-rmse:0.307616\n",
      "[1500]\ttrain-rmse:0.072839\tvalid-rmse:0.306048\n",
      "Stopping. Best iteration:\n",
      "[1343]\ttrain-rmse:0.083505\tvalid-rmse:0.305681\n",
      "\n",
      "valid score AUC : 0.9365\n",
      "valid score Accuracy : 0.8820\n",
      "\n",
      " Train XGBoost:  4\n",
      "[0]\ttrain-rmse:0.498414\tvalid-rmse:0.499051\n",
      "Multiple eval metrics have been passed: 'valid-rmse' will be used for early stopping.\n",
      "\n",
      "Will train until valid-rmse hasn't improved in 500 rounds.\n",
      "[500]\ttrain-rmse:0.197239\tvalid-rmse:0.39595\n",
      "Stopping. Best iteration:\n",
      "[360]\ttrain-rmse:0.235949\tvalid-rmse:0.394895\n",
      "\n",
      "valid score AUC : 0.8365\n",
      "valid score Accuracy : 0.7809\n",
      "\n",
      " Train XGBoost:  5\n",
      "[0]\ttrain-rmse:0.498406\tvalid-rmse:0.498799\n",
      "Multiple eval metrics have been passed: 'valid-rmse' will be used for early stopping.\n",
      "\n",
      "Will train until valid-rmse hasn't improved in 500 rounds.\n",
      "[500]\ttrain-rmse:0.201552\tvalid-rmse:0.375218\n",
      "[1000]\ttrain-rmse:0.112424\tvalid-rmse:0.374527\n",
      "Stopping. Best iteration:\n",
      "[742]\ttrain-rmse:0.150668\tvalid-rmse:0.373918\n",
      "\n",
      "valid score AUC : 0.8508\n",
      "valid score Accuracy : 0.7966\n",
      "----------\n",
      "Cross Validation AUC:  0.8820 (+/- 0.04%)\n",
      "Cross Validation Accuracy:  0.8305 (+/- 0.04%)\n",
      "----------\n",
      "CPU times: user 2min 16s, sys: 442 ms, total: 2min 16s\n",
      "Wall time: 34.4 s\n"
     ]
    }
   ],
   "source": [
    "%%time\n",
    "for fold_index, (train_index, valid_index) in enumerate(kfold.split(x_train, y_train)):\n",
    "\n",
    "    # Set Data for XGBoost\n",
    "    xgb_train = xgb.DMatrix(x_train.iloc[train_index], y_train.iloc[train_index])\n",
    "    xgb_valid = xgb.DMatrix(x_train.iloc[valid_index], y_train.iloc[valid_index])\n",
    "\n",
    "    # Set watchlist\n",
    "    watchlist = [(xgb_train, 'train'), (xgb_valid, 'valid')]\n",
    "\n",
    "    # Train\n",
    "    print('\\n Train XGBoost: ', fold_index+1)\n",
    "    model_xgb = xgb.train(params=xgb_params,\n",
    "                           dtrain=xgb_train,\n",
    "                           evals=watchlist,\n",
    "                           num_boost_round=10000,\n",
    "                           early_stopping_rounds=500,\n",
    "                           verbose_eval=500,\n",
    "                          )    \n",
    "\n",
    "    # Evaluate\n",
    "    y_valid_preds = model_xgb.predict(xgb.DMatrix(x_train.iloc[valid_index]), ntree_limit=model_xgb.best_ntree_limit)\n",
    "    valid_score_auc = roc_auc_score(y_train.iloc[valid_index], y_valid_preds)\n",
    "    valid_score_acc = accuracy_score(y_train.iloc[valid_index], np.round(y_valid_preds).astype(np.int8))\n",
    "    print('valid score AUC :', \"%.4f\" % valid_score_auc)\n",
    "    print('valid score Accuracy :', \"%.4f\" % valid_score_acc)\n",
    "    cvscores_auc.append(valid_score_auc)\n",
    "    cvscores_acc.append(valid_score_acc)\n",
    "        \n",
    "    # Predict\n",
    "    y_preds_xgb += model_xgb.predict(xgb.DMatrix(x_test), ntree_limit=model_xgb.best_ntree_limit).reshape(-1) / fold_num\n",
    "    \n",
    "# Print CV\n",
    "print('-'*10)\n",
    "print('Cross Validation AUC: ',      \"%.4f (+/- %.2f%%)\" % (np.mean(cvscores_auc), np.std(cvscores_auc)))\n",
    "print('Cross Validation Accuracy: ', \"%.4f (+/- %.2f%%)\" % (np.mean(cvscores_acc), np.std(cvscores_acc)))\n",
    "print('-'*10)"
   ]
  },
  {
   "cell_type": "code",
   "execution_count": 45,
   "metadata": {},
   "outputs": [
    {
     "data": {
      "image/png": "[encoded data removed]",
      "text/plain": [
       "<Figure size 864x864 with 1 Axes>"
      ]
     },
     "metadata": {
      "needs_background": "light"
     },
     "output_type": "display_data"
    }
   ],
   "source": [
    "# Visualize Feature Importance of XGBoost\n",
    "fig, ax = plt.subplots(1, 1, figsize=(12, 12))\n",
    "xgb.plot_importance(model_xgb, grid=True, max_num_features=50, importance_type='gain', ax=ax)\n",
    "plt.show()"
   ]
  },
  {
   "cell_type": "code",
   "execution_count": 46,
   "metadata": {},
   "outputs": [
    {
     "data": {
      "text/plain": [
       "array([0.09684887, 0.56473187, 0.0658681 , 0.09644493, 0.63290979,\n",
       "       0.09226563, 0.64161225, 0.29290904, 0.4230141 , 0.16770165])"
      ]
     },
     "execution_count": 46,
     "metadata": {},
     "output_type": "execute_result"
    }
   ],
   "source": [
    "# Check y_preds\n",
    "y_preds_xgb[:10]"
   ]
  },
  {
   "cell_type": "code",
   "execution_count": 47,
   "metadata": {},
   "outputs": [
    {
     "data": {
      "text/html": [
       "<div>\n",
       "<style scoped>\n",
       "    .dataframe tbody tr th:only-of-type {\n",
       "        vertical-align: middle;\n",
       "    }\n",
       "\n",
       "    .dataframe tbody tr th {\n",
       "        vertical-align: top;\n",
       "    }\n",
       "\n",
       "    .dataframe thead th {\n",
       "        text-align: right;\n",
       "    }\n",
       "</style>\n",
       "<table border=\"1\" class=\"dataframe\">\n",
       "  <thead>\n",
       "    <tr style=\"text-align: right;\">\n",
       "      <th></th>\n",
       "      <th>count</th>\n",
       "      <th>mean</th>\n",
       "      <th>std</th>\n",
       "      <th>min</th>\n",
       "      <th>25%</th>\n",
       "      <th>50%</th>\n",
       "      <th>75%</th>\n",
       "      <th>max</th>\n",
       "    </tr>\n",
       "  </thead>\n",
       "  <tbody>\n",
       "    <tr>\n",
       "      <td>0</td>\n",
       "      <td>418.0</td>\n",
       "      <td>0.378075</td>\n",
       "      <td>0.32878</td>\n",
       "      <td>0.044523</td>\n",
       "      <td>0.097236</td>\n",
       "      <td>0.207571</td>\n",
       "      <td>0.674318</td>\n",
       "      <td>0.961916</td>\n",
       "    </tr>\n",
       "  </tbody>\n",
       "</table>\n",
       "</div>"
      ],
      "text/plain": [
       "   count      mean      std       min       25%       50%       75%       max\n",
       "0  418.0  0.378075  0.32878  0.044523  0.097236  0.207571  0.674318  0.961916"
      ]
     },
     "execution_count": 47,
     "metadata": {},
     "output_type": "execute_result"
    }
   ],
   "source": [
    "# Check y_preds describe\n",
    "pd.DataFrame(y_preds_xgb).describe().T"
   ]
  },
  {
   "cell_type": "code",
   "execution_count": 48,
   "metadata": {},
   "outputs": [
    {
     "data": {
      "image/png": "[encoded data removed]",
      "text/plain": [
       "<Figure size 432x288 with 1 Axes>"
      ]
     },
     "metadata": {
      "needs_background": "light"
     },
     "output_type": "display_data"
    },
    {
     "name": "stdout",
     "output_type": "stream",
     "text": [
      "0    0.660287\n",
      "1    0.339713\n",
      "dtype: float64\n"
     ]
    }
   ],
   "source": [
    "# Distribution of y_preds\n",
    "y_preds_xgb_int = np.round(y_preds_xgb).astype(np.int8)\n",
    "sns.countplot(x=0, data=pd.DataFrame(y_preds_xgb_int))\n",
    "plt.show()\n",
    "\n",
    "print(pd.Series(y_preds_xgb_int).value_counts(normalize=True))"
   ]
  },
  {
   "cell_type": "markdown",
   "metadata": {},
   "source": [
    "### 5-4. Neural Network"
   ]
  },
  {
   "cell_type": "code",
   "execution_count": 49,
   "metadata": {},
   "outputs": [],
   "source": [
    "# Learning rate scheduler\n",
    "def lr_schedule(epoch):\n",
    "    lrate = 0.001\n",
    "    if epoch > 75:\n",
    "        lrate = 0.00005\n",
    "    elif epoch > 50:\n",
    "        lrate = 0.0001\n",
    "    elif epoch > 25:\n",
    "        lrate = 0.0005\n",
    "    return lrate"
   ]
  },
  {
   "cell_type": "code",
   "execution_count": 50,
   "metadata": {},
   "outputs": [
    {
     "name": "stdout",
     "output_type": "stream",
     "text": [
      "(891, 166) (418, 166)\n"
     ]
    },
    {
     "data": {
      "text/html": [
       "<div>\n",
       "<style scoped>\n",
       "    .dataframe tbody tr th:only-of-type {\n",
       "        vertical-align: middle;\n",
       "    }\n",
       "\n",
       "    .dataframe tbody tr th {\n",
       "        vertical-align: top;\n",
       "    }\n",
       "\n",
       "    .dataframe thead th {\n",
       "        text-align: right;\n",
       "    }\n",
       "</style>\n",
       "<table border=\"1\" class=\"dataframe\">\n",
       "  <thead>\n",
       "    <tr style=\"text-align: right;\">\n",
       "      <th></th>\n",
       "      <th>SVD_Name_0</th>\n",
       "      <th>SVD_Name_1</th>\n",
       "      <th>SVD_Name_2</th>\n",
       "      <th>SVD_Name_3</th>\n",
       "      <th>SVD_Name_4</th>\n",
       "      <th>SVD_Name_5</th>\n",
       "      <th>SVD_Name_6</th>\n",
       "      <th>SVD_Name_7</th>\n",
       "      <th>SVD_Name_8</th>\n",
       "      <th>SVD_Name_9</th>\n",
       "      <th>SVD_Name_10</th>\n",
       "      <th>SVD_Name_11</th>\n",
       "      <th>SVD_Name_12</th>\n",
       "      <th>SVD_Name_13</th>\n",
       "      <th>SVD_Name_14</th>\n",
       "      <th>SVD_Name_15</th>\n",
       "      <th>SVD_Name_16</th>\n",
       "      <th>SVD_Name_17</th>\n",
       "      <th>SVD_Name_18</th>\n",
       "      <th>SVD_Name_19</th>\n",
       "      <th>SVD_Name_20</th>\n",
       "      <th>SVD_Name_21</th>\n",
       "      <th>SVD_Name_22</th>\n",
       "      <th>SVD_Name_23</th>\n",
       "      <th>SVD_Name_24</th>\n",
       "      <th>SVD_Name_25</th>\n",
       "      <th>SVD_Name_26</th>\n",
       "      <th>SVD_Name_27</th>\n",
       "      <th>SVD_Name_28</th>\n",
       "      <th>SVD_Name_29</th>\n",
       "      <th>SVD_Name_30</th>\n",
       "      <th>SVD_Name_31</th>\n",
       "      <th>SVD_Name_32</th>\n",
       "      <th>SVD_Name_33</th>\n",
       "      <th>SVD_Name_34</th>\n",
       "      <th>SVD_Name_35</th>\n",
       "      <th>SVD_Name_36</th>\n",
       "      <th>SVD_Name_37</th>\n",
       "      <th>SVD_Name_38</th>\n",
       "      <th>SVD_Name_39</th>\n",
       "      <th>SVD_Name_40</th>\n",
       "      <th>SVD_Name_41</th>\n",
       "      <th>SVD_Name_42</th>\n",
       "      <th>SVD_Name_43</th>\n",
       "      <th>SVD_Name_44</th>\n",
       "      <th>SVD_Name_45</th>\n",
       "      <th>SVD_Name_46</th>\n",
       "      <th>SVD_Name_47</th>\n",
       "      <th>SVD_Name_48</th>\n",
       "      <th>SVD_Name_49</th>\n",
       "      <th>SVD_Name_50</th>\n",
       "      <th>SVD_Name_51</th>\n",
       "      <th>SVD_Name_52</th>\n",
       "      <th>SVD_Name_53</th>\n",
       "      <th>SVD_Name_54</th>\n",
       "      <th>SVD_Name_55</th>\n",
       "      <th>SVD_Name_56</th>\n",
       "      <th>SVD_Name_57</th>\n",
       "      <th>SVD_Name_58</th>\n",
       "      <th>SVD_Name_59</th>\n",
       "      <th>SVD_Name_60</th>\n",
       "      <th>SVD_Name_61</th>\n",
       "      <th>SVD_Name_62</th>\n",
       "      <th>SVD_Name_63</th>\n",
       "      <th>SVD_Ticket_0</th>\n",
       "      <th>SVD_Ticket_1</th>\n",
       "      <th>SVD_Ticket_2</th>\n",
       "      <th>SVD_Ticket_3</th>\n",
       "      <th>SVD_Ticket_4</th>\n",
       "      <th>SVD_Ticket_5</th>\n",
       "      <th>SVD_Ticket_6</th>\n",
       "      <th>SVD_Ticket_7</th>\n",
       "      <th>SVD_Ticket_8</th>\n",
       "      <th>SVD_Ticket_9</th>\n",
       "      <th>SVD_Ticket_10</th>\n",
       "      <th>SVD_Ticket_11</th>\n",
       "      <th>SVD_Ticket_12</th>\n",
       "      <th>SVD_Ticket_13</th>\n",
       "      <th>SVD_Ticket_14</th>\n",
       "      <th>SVD_Ticket_15</th>\n",
       "      <th>SVD_Ticket_16</th>\n",
       "      <th>SVD_Ticket_17</th>\n",
       "      <th>SVD_Ticket_18</th>\n",
       "      <th>SVD_Ticket_19</th>\n",
       "      <th>SVD_Ticket_20</th>\n",
       "      <th>SVD_Ticket_21</th>\n",
       "      <th>SVD_Ticket_22</th>\n",
       "      <th>SVD_Ticket_23</th>\n",
       "      <th>SVD_Ticket_24</th>\n",
       "      <th>SVD_Ticket_25</th>\n",
       "      <th>SVD_Ticket_26</th>\n",
       "      <th>SVD_Ticket_27</th>\n",
       "      <th>SVD_Ticket_28</th>\n",
       "      <th>SVD_Ticket_29</th>\n",
       "      <th>SVD_Ticket_30</th>\n",
       "      <th>SVD_Ticket_31</th>\n",
       "      <th>SVD_Ticket_32</th>\n",
       "      <th>SVD_Ticket_33</th>\n",
       "      <th>SVD_Ticket_34</th>\n",
       "      <th>SVD_Ticket_35</th>\n",
       "      <th>SVD_Ticket_36</th>\n",
       "      <th>SVD_Ticket_37</th>\n",
       "      <th>SVD_Ticket_38</th>\n",
       "      <th>SVD_Ticket_39</th>\n",
       "      <th>SVD_Ticket_40</th>\n",
       "      <th>SVD_Ticket_41</th>\n",
       "      <th>SVD_Ticket_42</th>\n",
       "      <th>SVD_Ticket_43</th>\n",
       "      <th>SVD_Ticket_44</th>\n",
       "      <th>SVD_Ticket_45</th>\n",
       "      <th>SVD_Ticket_46</th>\n",
       "      <th>SVD_Ticket_47</th>\n",
       "      <th>SVD_Ticket_48</th>\n",
       "      <th>SVD_Ticket_49</th>\n",
       "      <th>SVD_Ticket_50</th>\n",
       "      <th>SVD_Ticket_51</th>\n",
       "      <th>SVD_Ticket_52</th>\n",
       "      <th>SVD_Ticket_53</th>\n",
       "      <th>SVD_Ticket_54</th>\n",
       "      <th>SVD_Ticket_55</th>\n",
       "      <th>SVD_Ticket_56</th>\n",
       "      <th>SVD_Ticket_57</th>\n",
       "      <th>SVD_Ticket_58</th>\n",
       "      <th>SVD_Ticket_59</th>\n",
       "      <th>SVD_Ticket_60</th>\n",
       "      <th>SVD_Ticket_61</th>\n",
       "      <th>SVD_Ticket_62</th>\n",
       "      <th>SVD_Ticket_63</th>\n",
       "      <th>Pclass_count</th>\n",
       "      <th>Sex_count</th>\n",
       "      <th>Embarked_count</th>\n",
       "      <th>FamilySize_count</th>\n",
       "      <th>IsAlone_count</th>\n",
       "      <th>Title_Group_count</th>\n",
       "      <th>CabinBool_count</th>\n",
       "      <th>FamilySize_target</th>\n",
       "      <th>Embarked_target</th>\n",
       "      <th>Pclass_target</th>\n",
       "      <th>CabinBool_target</th>\n",
       "      <th>Title_Group_target</th>\n",
       "      <th>Pclass_1</th>\n",
       "      <th>Pclass_2</th>\n",
       "      <th>Pclass_3</th>\n",
       "      <th>Sex_0</th>\n",
       "      <th>Sex_1</th>\n",
       "      <th>Embarked_0</th>\n",
       "      <th>Embarked_1</th>\n",
       "      <th>Embarked_2</th>\n",
       "      <th>IsAlone_0</th>\n",
       "      <th>IsAlone_1</th>\n",
       "      <th>FamilySize_1</th>\n",
       "      <th>FamilySize_2</th>\n",
       "      <th>FamilySize_3</th>\n",
       "      <th>FamilySize_4</th>\n",
       "      <th>FamilySize_5</th>\n",
       "      <th>FamilySize_6</th>\n",
       "      <th>FamilySize_7</th>\n",
       "      <th>FamilySize_8</th>\n",
       "      <th>FamilySize_11</th>\n",
       "      <th>CabinBool_0</th>\n",
       "      <th>CabinBool_1</th>\n",
       "      <th>Title_Group_0</th>\n",
       "      <th>Title_Group_1</th>\n",
       "      <th>Title_Group_2</th>\n",
       "      <th>Title_Group_3</th>\n",
       "      <th>Title_Group_4</th>\n",
       "    </tr>\n",
       "  </thead>\n",
       "  <tbody>\n",
       "    <tr>\n",
       "      <td>0</td>\n",
       "      <td>1.030731e-02</td>\n",
       "      <td>5.275726e-03</td>\n",
       "      <td>0.016037</td>\n",
       "      <td>0.014809</td>\n",
       "      <td>0.034302</td>\n",
       "      <td>2.238464e-02</td>\n",
       "      <td>-0.039154</td>\n",
       "      <td>0.039825</td>\n",
       "      <td>0.010941</td>\n",
       "      <td>-0.013763</td>\n",
       "      <td>-0.003695</td>\n",
       "      <td>0.002640</td>\n",
       "      <td>-0.009453</td>\n",
       "      <td>0.003845</td>\n",
       "      <td>-0.005665</td>\n",
       "      <td>0.003050</td>\n",
       "      <td>-0.004536</td>\n",
       "      <td>-0.009224</td>\n",
       "      <td>0.035217</td>\n",
       "      <td>0.006836</td>\n",
       "      <td>-0.007515</td>\n",
       "      <td>0.000566</td>\n",
       "      <td>2.971649e-03</td>\n",
       "      <td>0.010277</td>\n",
       "      <td>-0.004322</td>\n",
       "      <td>0.001579</td>\n",
       "      <td>-0.005775</td>\n",
       "      <td>-0.012474</td>\n",
       "      <td>0.007141</td>\n",
       "      <td>-0.000026</td>\n",
       "      <td>-0.025055</td>\n",
       "      <td>0.003206</td>\n",
       "      <td>-0.026779</td>\n",
       "      <td>-0.025818</td>\n",
       "      <td>-0.013680</td>\n",
       "      <td>-0.007664</td>\n",
       "      <td>0.161865</td>\n",
       "      <td>0.029968</td>\n",
       "      <td>-0.086853</td>\n",
       "      <td>-0.021484</td>\n",
       "      <td>0.041809</td>\n",
       "      <td>-0.007301</td>\n",
       "      <td>0.021973</td>\n",
       "      <td>0.038544</td>\n",
       "      <td>-0.045044</td>\n",
       "      <td>0.006123</td>\n",
       "      <td>-0.040588</td>\n",
       "      <td>-0.016495</td>\n",
       "      <td>0.025070</td>\n",
       "      <td>0.030869</td>\n",
       "      <td>-0.018402</td>\n",
       "      <td>-0.001453</td>\n",
       "      <td>0.050201</td>\n",
       "      <td>0.008255</td>\n",
       "      <td>0.050171</td>\n",
       "      <td>-0.049805</td>\n",
       "      <td>0.065674</td>\n",
       "      <td>-0.058075</td>\n",
       "      <td>-0.025345</td>\n",
       "      <td>-0.128418</td>\n",
       "      <td>-0.092041</td>\n",
       "      <td>-0.083557</td>\n",
       "      <td>-0.019470</td>\n",
       "      <td>-0.041809</td>\n",
       "      <td>-5.960464e-08</td>\n",
       "      <td>-2.980232e-07</td>\n",
       "      <td>-5.960464e-08</td>\n",
       "      <td>0.000005</td>\n",
       "      <td>-4.172325e-07</td>\n",
       "      <td>-0.000005</td>\n",
       "      <td>-2.765656e-05</td>\n",
       "      <td>0.000025</td>\n",
       "      <td>0.000025</td>\n",
       "      <td>0.000005</td>\n",
       "      <td>-0.000010</td>\n",
       "      <td>-0.000036</td>\n",
       "      <td>0.000007</td>\n",
       "      <td>-4.768372e-07</td>\n",
       "      <td>0.000009</td>\n",
       "      <td>0.000049</td>\n",
       "      <td>-0.000001</td>\n",
       "      <td>-0.000109</td>\n",
       "      <td>0.000035</td>\n",
       "      <td>-0.000101</td>\n",
       "      <td>-0.000141</td>\n",
       "      <td>0.000036</td>\n",
       "      <td>-0.000082</td>\n",
       "      <td>0.000083</td>\n",
       "      <td>-0.000040</td>\n",
       "      <td>0.000122</td>\n",
       "      <td>-0.000080</td>\n",
       "      <td>-0.000132</td>\n",
       "      <td>-0.000154</td>\n",
       "      <td>-0.000165</td>\n",
       "      <td>-0.000621</td>\n",
       "      <td>0.000079</td>\n",
       "      <td>-7.152557e-07</td>\n",
       "      <td>-2.808571e-04</td>\n",
       "      <td>1.318455e-04</td>\n",
       "      <td>0.000319</td>\n",
       "      <td>-0.000099</td>\n",
       "      <td>-0.000016</td>\n",
       "      <td>0.000053</td>\n",
       "      <td>-0.000409</td>\n",
       "      <td>-0.000378</td>\n",
       "      <td>0.000794</td>\n",
       "      <td>-0.000116</td>\n",
       "      <td>-0.000304</td>\n",
       "      <td>-0.000186</td>\n",
       "      <td>-0.000560</td>\n",
       "      <td>-0.000352</td>\n",
       "      <td>0.000014</td>\n",
       "      <td>-0.000147</td>\n",
       "      <td>-4.172325e-07</td>\n",
       "      <td>0.000117</td>\n",
       "      <td>0.000546</td>\n",
       "      <td>0.000556</td>\n",
       "      <td>0.000725</td>\n",
       "      <td>-0.000019</td>\n",
       "      <td>0.000702</td>\n",
       "      <td>-0.000842</td>\n",
       "      <td>0.001052</td>\n",
       "      <td>0.000802</td>\n",
       "      <td>0.000806</td>\n",
       "      <td>0.001081</td>\n",
       "      <td>0.000229</td>\n",
       "      <td>-0.000713</td>\n",
       "      <td>0.000825</td>\n",
       "      <td>709</td>\n",
       "      <td>843</td>\n",
       "      <td>914</td>\n",
       "      <td>235</td>\n",
       "      <td>519</td>\n",
       "      <td>758</td>\n",
       "      <td>1014</td>\n",
       "      <td>0.557252</td>\n",
       "      <td>0.338583</td>\n",
       "      <td>0.235294</td>\n",
       "      <td>0.291139</td>\n",
       "      <td>0.141119</td>\n",
       "      <td>0</td>\n",
       "      <td>0</td>\n",
       "      <td>1</td>\n",
       "      <td>1</td>\n",
       "      <td>0</td>\n",
       "      <td>1</td>\n",
       "      <td>0</td>\n",
       "      <td>0</td>\n",
       "      <td>1</td>\n",
       "      <td>0</td>\n",
       "      <td>0</td>\n",
       "      <td>1</td>\n",
       "      <td>0</td>\n",
       "      <td>0</td>\n",
       "      <td>0</td>\n",
       "      <td>0</td>\n",
       "      <td>0</td>\n",
       "      <td>0</td>\n",
       "      <td>0</td>\n",
       "      <td>0</td>\n",
       "      <td>1</td>\n",
       "      <td>1</td>\n",
       "      <td>0</td>\n",
       "      <td>0</td>\n",
       "      <td>0</td>\n",
       "      <td>0</td>\n",
       "    </tr>\n",
       "    <tr>\n",
       "      <td>1</td>\n",
       "      <td>1.424561e-01</td>\n",
       "      <td>2.556152e-01</td>\n",
       "      <td>-0.064148</td>\n",
       "      <td>-0.029877</td>\n",
       "      <td>-0.027405</td>\n",
       "      <td>-5.056763e-02</td>\n",
       "      <td>-0.004230</td>\n",
       "      <td>-0.018921</td>\n",
       "      <td>-0.019516</td>\n",
       "      <td>0.001576</td>\n",
       "      <td>-0.013474</td>\n",
       "      <td>-0.016037</td>\n",
       "      <td>-0.005676</td>\n",
       "      <td>-0.006775</td>\n",
       "      <td>-0.007618</td>\n",
       "      <td>-0.024323</td>\n",
       "      <td>-0.016281</td>\n",
       "      <td>-0.015091</td>\n",
       "      <td>-0.000959</td>\n",
       "      <td>-0.017227</td>\n",
       "      <td>-0.018463</td>\n",
       "      <td>-0.009056</td>\n",
       "      <td>-1.159668e-02</td>\n",
       "      <td>-0.031281</td>\n",
       "      <td>0.037140</td>\n",
       "      <td>0.007637</td>\n",
       "      <td>0.015793</td>\n",
       "      <td>-0.000034</td>\n",
       "      <td>0.064026</td>\n",
       "      <td>0.014389</td>\n",
       "      <td>-0.026352</td>\n",
       "      <td>0.013527</td>\n",
       "      <td>0.017792</td>\n",
       "      <td>0.035034</td>\n",
       "      <td>-0.015427</td>\n",
       "      <td>0.032593</td>\n",
       "      <td>-0.022705</td>\n",
       "      <td>-0.007214</td>\n",
       "      <td>-0.028076</td>\n",
       "      <td>-0.006989</td>\n",
       "      <td>-0.018829</td>\n",
       "      <td>0.005119</td>\n",
       "      <td>0.040466</td>\n",
       "      <td>0.016876</td>\n",
       "      <td>0.001587</td>\n",
       "      <td>0.068115</td>\n",
       "      <td>0.101562</td>\n",
       "      <td>-0.034210</td>\n",
       "      <td>0.024536</td>\n",
       "      <td>-0.043610</td>\n",
       "      <td>0.032166</td>\n",
       "      <td>0.036560</td>\n",
       "      <td>-0.030396</td>\n",
       "      <td>-0.005100</td>\n",
       "      <td>-0.022278</td>\n",
       "      <td>-0.014244</td>\n",
       "      <td>0.031952</td>\n",
       "      <td>0.038269</td>\n",
       "      <td>0.040009</td>\n",
       "      <td>-0.102905</td>\n",
       "      <td>0.047729</td>\n",
       "      <td>-0.054596</td>\n",
       "      <td>0.013954</td>\n",
       "      <td>-0.039948</td>\n",
       "      <td>4.650879e-01</td>\n",
       "      <td>-2.205372e-06</td>\n",
       "      <td>2.753735e-05</td>\n",
       "      <td>0.000037</td>\n",
       "      <td>3.933907e-06</td>\n",
       "      <td>-0.000159</td>\n",
       "      <td>-6.842613e-05</td>\n",
       "      <td>0.000209</td>\n",
       "      <td>-0.000138</td>\n",
       "      <td>0.000503</td>\n",
       "      <td>-0.000209</td>\n",
       "      <td>-0.000181</td>\n",
       "      <td>-0.000554</td>\n",
       "      <td>4.941225e-05</td>\n",
       "      <td>-0.000456</td>\n",
       "      <td>0.000493</td>\n",
       "      <td>-0.000575</td>\n",
       "      <td>-0.000534</td>\n",
       "      <td>0.000705</td>\n",
       "      <td>-0.001690</td>\n",
       "      <td>-0.000607</td>\n",
       "      <td>-0.060944</td>\n",
       "      <td>-0.001446</td>\n",
       "      <td>-0.000458</td>\n",
       "      <td>-0.001641</td>\n",
       "      <td>-0.002541</td>\n",
       "      <td>0.001014</td>\n",
       "      <td>-0.002289</td>\n",
       "      <td>-0.003317</td>\n",
       "      <td>-0.000868</td>\n",
       "      <td>-0.000189</td>\n",
       "      <td>-0.006599</td>\n",
       "      <td>3.074646e-03</td>\n",
       "      <td>7.583618e-03</td>\n",
       "      <td>4.100800e-03</td>\n",
       "      <td>0.002048</td>\n",
       "      <td>-0.034851</td>\n",
       "      <td>0.003075</td>\n",
       "      <td>-0.001944</td>\n",
       "      <td>-0.005131</td>\n",
       "      <td>-0.003876</td>\n",
       "      <td>0.001719</td>\n",
       "      <td>0.000152</td>\n",
       "      <td>-0.002542</td>\n",
       "      <td>-0.002350</td>\n",
       "      <td>-0.006069</td>\n",
       "      <td>-0.010406</td>\n",
       "      <td>-0.001976</td>\n",
       "      <td>-0.000342</td>\n",
       "      <td>-1.306534e-03</td>\n",
       "      <td>-0.000688</td>\n",
       "      <td>-0.011894</td>\n",
       "      <td>-0.006683</td>\n",
       "      <td>-0.009178</td>\n",
       "      <td>-0.007912</td>\n",
       "      <td>0.011856</td>\n",
       "      <td>0.004517</td>\n",
       "      <td>-0.006004</td>\n",
       "      <td>-0.002007</td>\n",
       "      <td>0.015526</td>\n",
       "      <td>-0.005577</td>\n",
       "      <td>0.008316</td>\n",
       "      <td>-0.005981</td>\n",
       "      <td>-0.017822</td>\n",
       "      <td>323</td>\n",
       "      <td>466</td>\n",
       "      <td>272</td>\n",
       "      <td>235</td>\n",
       "      <td>519</td>\n",
       "      <td>518</td>\n",
       "      <td>295</td>\n",
       "      <td>0.557252</td>\n",
       "      <td>0.537931</td>\n",
       "      <td>0.627907</td>\n",
       "      <td>0.687500</td>\n",
       "      <td>0.721429</td>\n",
       "      <td>1</td>\n",
       "      <td>0</td>\n",
       "      <td>0</td>\n",
       "      <td>0</td>\n",
       "      <td>1</td>\n",
       "      <td>0</td>\n",
       "      <td>1</td>\n",
       "      <td>0</td>\n",
       "      <td>1</td>\n",
       "      <td>0</td>\n",
       "      <td>0</td>\n",
       "      <td>1</td>\n",
       "      <td>0</td>\n",
       "      <td>0</td>\n",
       "      <td>0</td>\n",
       "      <td>0</td>\n",
       "      <td>0</td>\n",
       "      <td>0</td>\n",
       "      <td>0</td>\n",
       "      <td>1</td>\n",
       "      <td>0</td>\n",
       "      <td>0</td>\n",
       "      <td>0</td>\n",
       "      <td>0</td>\n",
       "      <td>1</td>\n",
       "      <td>0</td>\n",
       "    </tr>\n",
       "    <tr>\n",
       "      <td>2</td>\n",
       "      <td>1.788139e-07</td>\n",
       "      <td>1.192093e-07</td>\n",
       "      <td>-0.000002</td>\n",
       "      <td>0.000001</td>\n",
       "      <td>0.000000</td>\n",
       "      <td>-5.364418e-07</td>\n",
       "      <td>-0.000001</td>\n",
       "      <td>0.000003</td>\n",
       "      <td>0.000007</td>\n",
       "      <td>0.000004</td>\n",
       "      <td>-0.000013</td>\n",
       "      <td>0.000020</td>\n",
       "      <td>0.000036</td>\n",
       "      <td>0.000022</td>\n",
       "      <td>-0.000017</td>\n",
       "      <td>-0.000007</td>\n",
       "      <td>-0.000025</td>\n",
       "      <td>0.000047</td>\n",
       "      <td>0.000048</td>\n",
       "      <td>0.000004</td>\n",
       "      <td>0.000043</td>\n",
       "      <td>-0.000032</td>\n",
       "      <td>-7.748604e-07</td>\n",
       "      <td>0.000029</td>\n",
       "      <td>-0.000081</td>\n",
       "      <td>0.000108</td>\n",
       "      <td>-0.000066</td>\n",
       "      <td>0.000033</td>\n",
       "      <td>-0.000084</td>\n",
       "      <td>0.000053</td>\n",
       "      <td>0.000116</td>\n",
       "      <td>-0.000152</td>\n",
       "      <td>-0.000253</td>\n",
       "      <td>-0.000215</td>\n",
       "      <td>0.000002</td>\n",
       "      <td>0.000163</td>\n",
       "      <td>-0.000485</td>\n",
       "      <td>0.000130</td>\n",
       "      <td>0.000437</td>\n",
       "      <td>0.000765</td>\n",
       "      <td>-0.000069</td>\n",
       "      <td>-0.000461</td>\n",
       "      <td>-0.000185</td>\n",
       "      <td>-0.000044</td>\n",
       "      <td>-0.000411</td>\n",
       "      <td>0.000257</td>\n",
       "      <td>-0.000448</td>\n",
       "      <td>-0.000139</td>\n",
       "      <td>0.000013</td>\n",
       "      <td>0.000308</td>\n",
       "      <td>-0.000183</td>\n",
       "      <td>-0.000089</td>\n",
       "      <td>0.000638</td>\n",
       "      <td>-0.000633</td>\n",
       "      <td>-0.000139</td>\n",
       "      <td>0.001773</td>\n",
       "      <td>0.000609</td>\n",
       "      <td>0.001279</td>\n",
       "      <td>-0.001464</td>\n",
       "      <td>-0.000464</td>\n",
       "      <td>-0.000642</td>\n",
       "      <td>-0.000213</td>\n",
       "      <td>0.001965</td>\n",
       "      <td>-0.000121</td>\n",
       "      <td>-4.172325e-07</td>\n",
       "      <td>-7.450581e-06</td>\n",
       "      <td>3.129244e-05</td>\n",
       "      <td>0.190186</td>\n",
       "      <td>-5.787611e-05</td>\n",
       "      <td>0.632812</td>\n",
       "      <td>-4.382133e-04</td>\n",
       "      <td>0.000040</td>\n",
       "      <td>-0.000068</td>\n",
       "      <td>0.000611</td>\n",
       "      <td>-0.000615</td>\n",
       "      <td>-0.000102</td>\n",
       "      <td>-0.000030</td>\n",
       "      <td>-9.071827e-05</td>\n",
       "      <td>0.000041</td>\n",
       "      <td>0.000109</td>\n",
       "      <td>0.000023</td>\n",
       "      <td>0.000651</td>\n",
       "      <td>-0.000232</td>\n",
       "      <td>-0.000264</td>\n",
       "      <td>-0.000141</td>\n",
       "      <td>-0.001621</td>\n",
       "      <td>-0.003334</td>\n",
       "      <td>-0.001187</td>\n",
       "      <td>0.000451</td>\n",
       "      <td>0.003660</td>\n",
       "      <td>-0.003073</td>\n",
       "      <td>0.001647</td>\n",
       "      <td>0.002295</td>\n",
       "      <td>-0.006092</td>\n",
       "      <td>-0.000566</td>\n",
       "      <td>-0.004883</td>\n",
       "      <td>-4.577637e-03</td>\n",
       "      <td>3.986359e-03</td>\n",
       "      <td>6.649017e-03</td>\n",
       "      <td>0.002172</td>\n",
       "      <td>-0.005329</td>\n",
       "      <td>0.012924</td>\n",
       "      <td>0.007629</td>\n",
       "      <td>-0.023605</td>\n",
       "      <td>-0.012024</td>\n",
       "      <td>-0.001592</td>\n",
       "      <td>-0.017639</td>\n",
       "      <td>-0.039124</td>\n",
       "      <td>0.004318</td>\n",
       "      <td>0.001581</td>\n",
       "      <td>0.004444</td>\n",
       "      <td>-0.007881</td>\n",
       "      <td>0.053619</td>\n",
       "      <td>1.849365e-02</td>\n",
       "      <td>0.055878</td>\n",
       "      <td>0.028458</td>\n",
       "      <td>0.035828</td>\n",
       "      <td>-0.004185</td>\n",
       "      <td>-0.000137</td>\n",
       "      <td>0.021835</td>\n",
       "      <td>-0.028473</td>\n",
       "      <td>0.089905</td>\n",
       "      <td>0.013145</td>\n",
       "      <td>0.042877</td>\n",
       "      <td>-0.061493</td>\n",
       "      <td>0.054474</td>\n",
       "      <td>-0.002707</td>\n",
       "      <td>0.049500</td>\n",
       "      <td>709</td>\n",
       "      <td>466</td>\n",
       "      <td>914</td>\n",
       "      <td>790</td>\n",
       "      <td>790</td>\n",
       "      <td>518</td>\n",
       "      <td>1014</td>\n",
       "      <td>0.331754</td>\n",
       "      <td>0.350394</td>\n",
       "      <td>0.251295</td>\n",
       "      <td>0.316940</td>\n",
       "      <td>0.728522</td>\n",
       "      <td>0</td>\n",
       "      <td>0</td>\n",
       "      <td>1</td>\n",
       "      <td>0</td>\n",
       "      <td>1</td>\n",
       "      <td>1</td>\n",
       "      <td>0</td>\n",
       "      <td>0</td>\n",
       "      <td>0</td>\n",
       "      <td>1</td>\n",
       "      <td>1</td>\n",
       "      <td>0</td>\n",
       "      <td>0</td>\n",
       "      <td>0</td>\n",
       "      <td>0</td>\n",
       "      <td>0</td>\n",
       "      <td>0</td>\n",
       "      <td>0</td>\n",
       "      <td>0</td>\n",
       "      <td>0</td>\n",
       "      <td>1</td>\n",
       "      <td>0</td>\n",
       "      <td>0</td>\n",
       "      <td>0</td>\n",
       "      <td>1</td>\n",
       "      <td>0</td>\n",
       "    </tr>\n",
       "    <tr>\n",
       "      <td>3</td>\n",
       "      <td>3.173828e-03</td>\n",
       "      <td>3.654957e-04</td>\n",
       "      <td>0.010132</td>\n",
       "      <td>-0.003910</td>\n",
       "      <td>0.000860</td>\n",
       "      <td>1.521111e-03</td>\n",
       "      <td>0.003038</td>\n",
       "      <td>0.001456</td>\n",
       "      <td>-0.002573</td>\n",
       "      <td>0.011261</td>\n",
       "      <td>0.001804</td>\n",
       "      <td>0.001255</td>\n",
       "      <td>-0.003685</td>\n",
       "      <td>0.006355</td>\n",
       "      <td>-0.031891</td>\n",
       "      <td>0.036865</td>\n",
       "      <td>0.005074</td>\n",
       "      <td>-0.002628</td>\n",
       "      <td>-0.006485</td>\n",
       "      <td>-0.003359</td>\n",
       "      <td>0.004017</td>\n",
       "      <td>0.001733</td>\n",
       "      <td>-6.385803e-03</td>\n",
       "      <td>0.000209</td>\n",
       "      <td>-0.004040</td>\n",
       "      <td>-0.004475</td>\n",
       "      <td>0.007519</td>\n",
       "      <td>0.001552</td>\n",
       "      <td>-0.006031</td>\n",
       "      <td>-0.013924</td>\n",
       "      <td>-0.008064</td>\n",
       "      <td>0.000216</td>\n",
       "      <td>0.001798</td>\n",
       "      <td>0.014145</td>\n",
       "      <td>-0.019653</td>\n",
       "      <td>-0.001629</td>\n",
       "      <td>0.008568</td>\n",
       "      <td>0.008415</td>\n",
       "      <td>-0.010170</td>\n",
       "      <td>-0.021332</td>\n",
       "      <td>-0.001709</td>\n",
       "      <td>0.028976</td>\n",
       "      <td>-0.008522</td>\n",
       "      <td>0.017746</td>\n",
       "      <td>0.006348</td>\n",
       "      <td>0.000255</td>\n",
       "      <td>0.011620</td>\n",
       "      <td>-0.032623</td>\n",
       "      <td>-0.033478</td>\n",
       "      <td>0.061981</td>\n",
       "      <td>0.019302</td>\n",
       "      <td>-0.020416</td>\n",
       "      <td>-0.034485</td>\n",
       "      <td>0.031921</td>\n",
       "      <td>-0.011848</td>\n",
       "      <td>-0.008682</td>\n",
       "      <td>-0.007965</td>\n",
       "      <td>-0.005505</td>\n",
       "      <td>0.075806</td>\n",
       "      <td>-0.018951</td>\n",
       "      <td>-0.014961</td>\n",
       "      <td>-0.008812</td>\n",
       "      <td>0.055389</td>\n",
       "      <td>0.022064</td>\n",
       "      <td>-1.192093e-06</td>\n",
       "      <td>3.045797e-05</td>\n",
       "      <td>-3.826618e-05</td>\n",
       "      <td>-0.000088</td>\n",
       "      <td>4.076958e-05</td>\n",
       "      <td>0.000029</td>\n",
       "      <td>2.207756e-04</td>\n",
       "      <td>0.000224</td>\n",
       "      <td>-0.000366</td>\n",
       "      <td>-0.000612</td>\n",
       "      <td>-0.000162</td>\n",
       "      <td>0.000917</td>\n",
       "      <td>0.001467</td>\n",
       "      <td>6.113052e-04</td>\n",
       "      <td>-0.000603</td>\n",
       "      <td>-0.001439</td>\n",
       "      <td>-0.000606</td>\n",
       "      <td>-0.000582</td>\n",
       "      <td>0.000682</td>\n",
       "      <td>-0.001242</td>\n",
       "      <td>0.002392</td>\n",
       "      <td>0.000768</td>\n",
       "      <td>-0.002241</td>\n",
       "      <td>-0.000843</td>\n",
       "      <td>0.003147</td>\n",
       "      <td>0.003897</td>\n",
       "      <td>-0.004234</td>\n",
       "      <td>0.003481</td>\n",
       "      <td>0.000865</td>\n",
       "      <td>0.006748</td>\n",
       "      <td>0.009293</td>\n",
       "      <td>0.000527</td>\n",
       "      <td>-1.210785e-02</td>\n",
       "      <td>-5.655289e-04</td>\n",
       "      <td>2.571106e-03</td>\n",
       "      <td>0.011841</td>\n",
       "      <td>0.004314</td>\n",
       "      <td>-0.006313</td>\n",
       "      <td>0.003901</td>\n",
       "      <td>-0.007786</td>\n",
       "      <td>0.008568</td>\n",
       "      <td>-0.001953</td>\n",
       "      <td>-0.012306</td>\n",
       "      <td>0.006931</td>\n",
       "      <td>-0.024475</td>\n",
       "      <td>0.014404</td>\n",
       "      <td>-0.039734</td>\n",
       "      <td>-0.001437</td>\n",
       "      <td>0.002012</td>\n",
       "      <td>1.558685e-02</td>\n",
       "      <td>0.015488</td>\n",
       "      <td>-0.013947</td>\n",
       "      <td>0.010391</td>\n",
       "      <td>-0.015007</td>\n",
       "      <td>-0.006130</td>\n",
       "      <td>-0.000501</td>\n",
       "      <td>0.007496</td>\n",
       "      <td>0.013199</td>\n",
       "      <td>-0.031342</td>\n",
       "      <td>0.000758</td>\n",
       "      <td>0.000978</td>\n",
       "      <td>0.019272</td>\n",
       "      <td>0.017075</td>\n",
       "      <td>0.072083</td>\n",
       "      <td>323</td>\n",
       "      <td>466</td>\n",
       "      <td>914</td>\n",
       "      <td>235</td>\n",
       "      <td>519</td>\n",
       "      <td>518</td>\n",
       "      <td>295</td>\n",
       "      <td>0.530769</td>\n",
       "      <td>0.342256</td>\n",
       "      <td>0.635294</td>\n",
       "      <td>0.666667</td>\n",
       "      <td>0.708633</td>\n",
       "      <td>1</td>\n",
       "      <td>0</td>\n",
       "      <td>0</td>\n",
       "      <td>0</td>\n",
       "      <td>1</td>\n",
       "      <td>1</td>\n",
       "      <td>0</td>\n",
       "      <td>0</td>\n",
       "      <td>1</td>\n",
       "      <td>0</td>\n",
       "      <td>0</td>\n",
       "      <td>1</td>\n",
       "      <td>0</td>\n",
       "      <td>0</td>\n",
       "      <td>0</td>\n",
       "      <td>0</td>\n",
       "      <td>0</td>\n",
       "      <td>0</td>\n",
       "      <td>0</td>\n",
       "      <td>1</td>\n",
       "      <td>0</td>\n",
       "      <td>0</td>\n",
       "      <td>0</td>\n",
       "      <td>0</td>\n",
       "      <td>1</td>\n",
       "      <td>0</td>\n",
       "    </tr>\n",
       "    <tr>\n",
       "      <td>4</td>\n",
       "      <td>4.582520e-01</td>\n",
       "      <td>-2.397461e-01</td>\n",
       "      <td>0.039978</td>\n",
       "      <td>-0.162964</td>\n",
       "      <td>0.312256</td>\n",
       "      <td>5.865479e-02</td>\n",
       "      <td>-0.076355</td>\n",
       "      <td>-0.112366</td>\n",
       "      <td>0.069458</td>\n",
       "      <td>0.001415</td>\n",
       "      <td>0.014687</td>\n",
       "      <td>-0.003771</td>\n",
       "      <td>-0.003784</td>\n",
       "      <td>-0.022964</td>\n",
       "      <td>0.007996</td>\n",
       "      <td>0.001245</td>\n",
       "      <td>-0.028610</td>\n",
       "      <td>0.024384</td>\n",
       "      <td>0.000618</td>\n",
       "      <td>0.017242</td>\n",
       "      <td>0.010498</td>\n",
       "      <td>-0.011261</td>\n",
       "      <td>1.385498e-02</td>\n",
       "      <td>0.013573</td>\n",
       "      <td>-0.008743</td>\n",
       "      <td>-0.018723</td>\n",
       "      <td>-0.004333</td>\n",
       "      <td>-0.023956</td>\n",
       "      <td>0.024002</td>\n",
       "      <td>-0.016830</td>\n",
       "      <td>-0.005592</td>\n",
       "      <td>0.034882</td>\n",
       "      <td>-0.003231</td>\n",
       "      <td>-0.013115</td>\n",
       "      <td>-0.003771</td>\n",
       "      <td>-0.005459</td>\n",
       "      <td>-0.007225</td>\n",
       "      <td>0.000919</td>\n",
       "      <td>0.012009</td>\n",
       "      <td>0.005756</td>\n",
       "      <td>0.014259</td>\n",
       "      <td>-0.006721</td>\n",
       "      <td>-0.002352</td>\n",
       "      <td>0.009781</td>\n",
       "      <td>-0.013489</td>\n",
       "      <td>-0.019135</td>\n",
       "      <td>0.004597</td>\n",
       "      <td>0.023178</td>\n",
       "      <td>0.013763</td>\n",
       "      <td>-0.018677</td>\n",
       "      <td>0.025574</td>\n",
       "      <td>0.005173</td>\n",
       "      <td>0.010445</td>\n",
       "      <td>-0.017471</td>\n",
       "      <td>0.006027</td>\n",
       "      <td>0.005806</td>\n",
       "      <td>-0.018539</td>\n",
       "      <td>0.026962</td>\n",
       "      <td>-0.011292</td>\n",
       "      <td>0.004822</td>\n",
       "      <td>0.012909</td>\n",
       "      <td>-0.039948</td>\n",
       "      <td>0.033966</td>\n",
       "      <td>-0.011490</td>\n",
       "      <td>0.000000e+00</td>\n",
       "      <td>-1.013279e-06</td>\n",
       "      <td>-2.086163e-06</td>\n",
       "      <td>0.000003</td>\n",
       "      <td>-3.099442e-06</td>\n",
       "      <td>0.000011</td>\n",
       "      <td>-4.768372e-07</td>\n",
       "      <td>-0.000030</td>\n",
       "      <td>-0.000014</td>\n",
       "      <td>-0.000008</td>\n",
       "      <td>0.000005</td>\n",
       "      <td>0.000041</td>\n",
       "      <td>0.000026</td>\n",
       "      <td>-3.784895e-05</td>\n",
       "      <td>0.000041</td>\n",
       "      <td>-0.000038</td>\n",
       "      <td>-0.000032</td>\n",
       "      <td>-0.000029</td>\n",
       "      <td>-0.000085</td>\n",
       "      <td>-0.000104</td>\n",
       "      <td>-0.000051</td>\n",
       "      <td>0.000031</td>\n",
       "      <td>0.000044</td>\n",
       "      <td>-0.000135</td>\n",
       "      <td>-0.000255</td>\n",
       "      <td>0.000138</td>\n",
       "      <td>0.000012</td>\n",
       "      <td>0.000225</td>\n",
       "      <td>0.000017</td>\n",
       "      <td>0.000273</td>\n",
       "      <td>-0.000150</td>\n",
       "      <td>0.000183</td>\n",
       "      <td>-3.724098e-04</td>\n",
       "      <td>-5.960464e-08</td>\n",
       "      <td>-8.940697e-07</td>\n",
       "      <td>0.000330</td>\n",
       "      <td>-0.000664</td>\n",
       "      <td>-0.000164</td>\n",
       "      <td>0.000381</td>\n",
       "      <td>-0.000147</td>\n",
       "      <td>0.000207</td>\n",
       "      <td>0.000468</td>\n",
       "      <td>-0.000166</td>\n",
       "      <td>-0.000255</td>\n",
       "      <td>-0.000427</td>\n",
       "      <td>-0.000158</td>\n",
       "      <td>0.000288</td>\n",
       "      <td>0.000206</td>\n",
       "      <td>0.001072</td>\n",
       "      <td>-9.412766e-04</td>\n",
       "      <td>-0.000313</td>\n",
       "      <td>-0.000579</td>\n",
       "      <td>0.000307</td>\n",
       "      <td>-0.000155</td>\n",
       "      <td>-0.000607</td>\n",
       "      <td>0.000511</td>\n",
       "      <td>-0.000334</td>\n",
       "      <td>0.000573</td>\n",
       "      <td>-0.001597</td>\n",
       "      <td>-0.000824</td>\n",
       "      <td>0.001813</td>\n",
       "      <td>-0.000838</td>\n",
       "      <td>0.000478</td>\n",
       "      <td>0.000762</td>\n",
       "      <td>709</td>\n",
       "      <td>843</td>\n",
       "      <td>914</td>\n",
       "      <td>790</td>\n",
       "      <td>790</td>\n",
       "      <td>758</td>\n",
       "      <td>1014</td>\n",
       "      <td>0.289720</td>\n",
       "      <td>0.338583</td>\n",
       "      <td>0.235294</td>\n",
       "      <td>0.291139</td>\n",
       "      <td>0.141119</td>\n",
       "      <td>0</td>\n",
       "      <td>0</td>\n",
       "      <td>1</td>\n",
       "      <td>1</td>\n",
       "      <td>0</td>\n",
       "      <td>1</td>\n",
       "      <td>0</td>\n",
       "      <td>0</td>\n",
       "      <td>0</td>\n",
       "      <td>1</td>\n",
       "      <td>1</td>\n",
       "      <td>0</td>\n",
       "      <td>0</td>\n",
       "      <td>0</td>\n",
       "      <td>0</td>\n",
       "      <td>0</td>\n",
       "      <td>0</td>\n",
       "      <td>0</td>\n",
       "      <td>0</td>\n",
       "      <td>0</td>\n",
       "      <td>1</td>\n",
       "      <td>1</td>\n",
       "      <td>0</td>\n",
       "      <td>0</td>\n",
       "      <td>0</td>\n",
       "      <td>0</td>\n",
       "    </tr>\n",
       "  </tbody>\n",
       "</table>\n",
       "</div>"
      ],
      "text/plain": [
       "     SVD_Name_0    SVD_Name_1  SVD_Name_2  SVD_Name_3  SVD_Name_4  \\\n",
       "0  1.030731e-02  5.275726e-03    0.016037    0.014809    0.034302   \n",
       "1  1.424561e-01  2.556152e-01   -0.064148   -0.029877   -0.027405   \n",
       "2  1.788139e-07  1.192093e-07   -0.000002    0.000001    0.000000   \n",
       "3  3.173828e-03  3.654957e-04    0.010132   -0.003910    0.000860   \n",
       "4  4.582520e-01 -2.397461e-01    0.039978   -0.162964    0.312256   \n",
       "\n",
       "     SVD_Name_5  SVD_Name_6  SVD_Name_7  SVD_Name_8  SVD_Name_9  SVD_Name_10  \\\n",
       "0  2.238464e-02   -0.039154    0.039825    0.010941   -0.013763    -0.003695   \n",
       "1 -5.056763e-02   -0.004230   -0.018921   -0.019516    0.001576    -0.013474   \n",
       "2 -5.364418e-07   -0.000001    0.000003    0.000007    0.000004    -0.000013   \n",
       "3  1.521111e-03    0.003038    0.001456   -0.002573    0.011261     0.001804   \n",
       "4  5.865479e-02   -0.076355   -0.112366    0.069458    0.001415     0.014687   \n",
       "\n",
       "   SVD_Name_11  SVD_Name_12  SVD_Name_13  SVD_Name_14  SVD_Name_15  \\\n",
       "0     0.002640    -0.009453     0.003845    -0.005665     0.003050   \n",
       "1    -0.016037    -0.005676    -0.006775    -0.007618    -0.024323   \n",
       "2     0.000020     0.000036     0.000022    -0.000017    -0.000007   \n",
       "3     0.001255    -0.003685     0.006355    -0.031891     0.036865   \n",
       "4    -0.003771    -0.003784    -0.022964     0.007996     0.001245   \n",
       "\n",
       "   SVD_Name_16  SVD_Name_17  SVD_Name_18  SVD_Name_19  SVD_Name_20  \\\n",
       "0    -0.004536    -0.009224     0.035217     0.006836    -0.007515   \n",
       "1    -0.016281    -0.015091    -0.000959    -0.017227    -0.018463   \n",
       "2    -0.000025     0.000047     0.000048     0.000004     0.000043   \n",
       "3     0.005074    -0.002628    -0.006485    -0.003359     0.004017   \n",
       "4    -0.028610     0.024384     0.000618     0.017242     0.010498   \n",
       "\n",
       "   SVD_Name_21   SVD_Name_22  SVD_Name_23  SVD_Name_24  SVD_Name_25  \\\n",
       "0     0.000566  2.971649e-03     0.010277    -0.004322     0.001579   \n",
       "1    -0.009056 -1.159668e-02    -0.031281     0.037140     0.007637   \n",
       "2    -0.000032 -7.748604e-07     0.000029    -0.000081     0.000108   \n",
       "3     0.001733 -6.385803e-03     0.000209    -0.004040    -0.004475   \n",
       "4    -0.011261  1.385498e-02     0.013573    -0.008743    -0.018723   \n",
       "\n",
       "   SVD_Name_26  SVD_Name_27  SVD_Name_28  SVD_Name_29  SVD_Name_30  \\\n",
       "0    -0.005775    -0.012474     0.007141    -0.000026    -0.025055   \n",
       "1     0.015793    -0.000034     0.064026     0.014389    -0.026352   \n",
       "2    -0.000066     0.000033    -0.000084     0.000053     0.000116   \n",
       "3     0.007519     0.001552    -0.006031    -0.013924    -0.008064   \n",
       "4    -0.004333    -0.023956     0.024002    -0.016830    -0.005592   \n",
       "\n",
       "   SVD_Name_31  SVD_Name_32  SVD_Name_33  SVD_Name_34  SVD_Name_35  \\\n",
       "0     0.003206    -0.026779    -0.025818    -0.013680    -0.007664   \n",
       "1     0.013527     0.017792     0.035034    -0.015427     0.032593   \n",
       "2    -0.000152    -0.000253    -0.000215     0.000002     0.000163   \n",
       "3     0.000216     0.001798     0.014145    -0.019653    -0.001629   \n",
       "4     0.034882    -0.003231    -0.013115    -0.003771    -0.005459   \n",
       "\n",
       "   SVD_Name_36  SVD_Name_37  SVD_Name_38  SVD_Name_39  SVD_Name_40  \\\n",
       "0     0.161865     0.029968    -0.086853    -0.021484     0.041809   \n",
       "1    -0.022705    -0.007214    -0.028076    -0.006989    -0.018829   \n",
       "2    -0.000485     0.000130     0.000437     0.000765    -0.000069   \n",
       "3     0.008568     0.008415    -0.010170    -0.021332    -0.001709   \n",
       "4    -0.007225     0.000919     0.012009     0.005756     0.014259   \n",
       "\n",
       "   SVD_Name_41  SVD_Name_42  SVD_Name_43  SVD_Name_44  SVD_Name_45  \\\n",
       "0    -0.007301     0.021973     0.038544    -0.045044     0.006123   \n",
       "1     0.005119     0.040466     0.016876     0.001587     0.068115   \n",
       "2    -0.000461    -0.000185    -0.000044    -0.000411     0.000257   \n",
       "3     0.028976    -0.008522     0.017746     0.006348     0.000255   \n",
       "4    -0.006721    -0.002352     0.009781    -0.013489    -0.019135   \n",
       "\n",
       "   SVD_Name_46  SVD_Name_47  SVD_Name_48  SVD_Name_49  SVD_Name_50  \\\n",
       "0    -0.040588    -0.016495     0.025070     0.030869    -0.018402   \n",
       "1     0.101562    -0.034210     0.024536    -0.043610     0.032166   \n",
       "2    -0.000448    -0.000139     0.000013     0.000308    -0.000183   \n",
       "3     0.011620    -0.032623    -0.033478     0.061981     0.019302   \n",
       "4     0.004597     0.023178     0.013763    -0.018677     0.025574   \n",
       "\n",
       "   SVD_Name_51  SVD_Name_52  SVD_Name_53  SVD_Name_54  SVD_Name_55  \\\n",
       "0    -0.001453     0.050201     0.008255     0.050171    -0.049805   \n",
       "1     0.036560    -0.030396    -0.005100    -0.022278    -0.014244   \n",
       "2    -0.000089     0.000638    -0.000633    -0.000139     0.001773   \n",
       "3    -0.020416    -0.034485     0.031921    -0.011848    -0.008682   \n",
       "4     0.005173     0.010445    -0.017471     0.006027     0.005806   \n",
       "\n",
       "   SVD_Name_56  SVD_Name_57  SVD_Name_58  SVD_Name_59  SVD_Name_60  \\\n",
       "0     0.065674    -0.058075    -0.025345    -0.128418    -0.092041   \n",
       "1     0.031952     0.038269     0.040009    -0.102905     0.047729   \n",
       "2     0.000609     0.001279    -0.001464    -0.000464    -0.000642   \n",
       "3    -0.007965    -0.005505     0.075806    -0.018951    -0.014961   \n",
       "4    -0.018539     0.026962    -0.011292     0.004822     0.012909   \n",
       "\n",
       "   SVD_Name_61  SVD_Name_62  SVD_Name_63  SVD_Ticket_0  SVD_Ticket_1  \\\n",
       "0    -0.083557    -0.019470    -0.041809 -5.960464e-08 -2.980232e-07   \n",
       "1    -0.054596     0.013954    -0.039948  4.650879e-01 -2.205372e-06   \n",
       "2    -0.000213     0.001965    -0.000121 -4.172325e-07 -7.450581e-06   \n",
       "3    -0.008812     0.055389     0.022064 -1.192093e-06  3.045797e-05   \n",
       "4    -0.039948     0.033966    -0.011490  0.000000e+00 -1.013279e-06   \n",
       "\n",
       "   SVD_Ticket_2  SVD_Ticket_3  SVD_Ticket_4  SVD_Ticket_5  SVD_Ticket_6  \\\n",
       "0 -5.960464e-08      0.000005 -4.172325e-07     -0.000005 -2.765656e-05   \n",
       "1  2.753735e-05      0.000037  3.933907e-06     -0.000159 -6.842613e-05   \n",
       "2  3.129244e-05      0.190186 -5.787611e-05      0.632812 -4.382133e-04   \n",
       "3 -3.826618e-05     -0.000088  4.076958e-05      0.000029  2.207756e-04   \n",
       "4 -2.086163e-06      0.000003 -3.099442e-06      0.000011 -4.768372e-07   \n",
       "\n",
       "   SVD_Ticket_7  SVD_Ticket_8  SVD_Ticket_9  SVD_Ticket_10  SVD_Ticket_11  \\\n",
       "0      0.000025      0.000025      0.000005      -0.000010      -0.000036   \n",
       "1      0.000209     -0.000138      0.000503      -0.000209      -0.000181   \n",
       "2      0.000040     -0.000068      0.000611      -0.000615      -0.000102   \n",
       "3      0.000224     -0.000366     -0.000612      -0.000162       0.000917   \n",
       "4     -0.000030     -0.000014     -0.000008       0.000005       0.000041   \n",
       "\n",
       "   SVD_Ticket_12  SVD_Ticket_13  SVD_Ticket_14  SVD_Ticket_15  SVD_Ticket_16  \\\n",
       "0       0.000007  -4.768372e-07       0.000009       0.000049      -0.000001   \n",
       "1      -0.000554   4.941225e-05      -0.000456       0.000493      -0.000575   \n",
       "2      -0.000030  -9.071827e-05       0.000041       0.000109       0.000023   \n",
       "3       0.001467   6.113052e-04      -0.000603      -0.001439      -0.000606   \n",
       "4       0.000026  -3.784895e-05       0.000041      -0.000038      -0.000032   \n",
       "\n",
       "   SVD_Ticket_17  SVD_Ticket_18  SVD_Ticket_19  SVD_Ticket_20  SVD_Ticket_21  \\\n",
       "0      -0.000109       0.000035      -0.000101      -0.000141       0.000036   \n",
       "1      -0.000534       0.000705      -0.001690      -0.000607      -0.060944   \n",
       "2       0.000651      -0.000232      -0.000264      -0.000141      -0.001621   \n",
       "3      -0.000582       0.000682      -0.001242       0.002392       0.000768   \n",
       "4      -0.000029      -0.000085      -0.000104      -0.000051       0.000031   \n",
       "\n",
       "   SVD_Ticket_22  SVD_Ticket_23  SVD_Ticket_24  SVD_Ticket_25  SVD_Ticket_26  \\\n",
       "0      -0.000082       0.000083      -0.000040       0.000122      -0.000080   \n",
       "1      -0.001446      -0.000458      -0.001641      -0.002541       0.001014   \n",
       "2      -0.003334      -0.001187       0.000451       0.003660      -0.003073   \n",
       "3      -0.002241      -0.000843       0.003147       0.003897      -0.004234   \n",
       "4       0.000044      -0.000135      -0.000255       0.000138       0.000012   \n",
       "\n",
       "   SVD_Ticket_27  SVD_Ticket_28  SVD_Ticket_29  SVD_Ticket_30  SVD_Ticket_31  \\\n",
       "0      -0.000132      -0.000154      -0.000165      -0.000621       0.000079   \n",
       "1      -0.002289      -0.003317      -0.000868      -0.000189      -0.006599   \n",
       "2       0.001647       0.002295      -0.006092      -0.000566      -0.004883   \n",
       "3       0.003481       0.000865       0.006748       0.009293       0.000527   \n",
       "4       0.000225       0.000017       0.000273      -0.000150       0.000183   \n",
       "\n",
       "   SVD_Ticket_32  SVD_Ticket_33  SVD_Ticket_34  SVD_Ticket_35  SVD_Ticket_36  \\\n",
       "0  -7.152557e-07  -2.808571e-04   1.318455e-04       0.000319      -0.000099   \n",
       "1   3.074646e-03   7.583618e-03   4.100800e-03       0.002048      -0.034851   \n",
       "2  -4.577637e-03   3.986359e-03   6.649017e-03       0.002172      -0.005329   \n",
       "3  -1.210785e-02  -5.655289e-04   2.571106e-03       0.011841       0.004314   \n",
       "4  -3.724098e-04  -5.960464e-08  -8.940697e-07       0.000330      -0.000664   \n",
       "\n",
       "   SVD_Ticket_37  SVD_Ticket_38  SVD_Ticket_39  SVD_Ticket_40  SVD_Ticket_41  \\\n",
       "0      -0.000016       0.000053      -0.000409      -0.000378       0.000794   \n",
       "1       0.003075      -0.001944      -0.005131      -0.003876       0.001719   \n",
       "2       0.012924       0.007629      -0.023605      -0.012024      -0.001592   \n",
       "3      -0.006313       0.003901      -0.007786       0.008568      -0.001953   \n",
       "4      -0.000164       0.000381      -0.000147       0.000207       0.000468   \n",
       "\n",
       "   SVD_Ticket_42  SVD_Ticket_43  SVD_Ticket_44  SVD_Ticket_45  SVD_Ticket_46  \\\n",
       "0      -0.000116      -0.000304      -0.000186      -0.000560      -0.000352   \n",
       "1       0.000152      -0.002542      -0.002350      -0.006069      -0.010406   \n",
       "2      -0.017639      -0.039124       0.004318       0.001581       0.004444   \n",
       "3      -0.012306       0.006931      -0.024475       0.014404      -0.039734   \n",
       "4      -0.000166      -0.000255      -0.000427      -0.000158       0.000288   \n",
       "\n",
       "   SVD_Ticket_47  SVD_Ticket_48  SVD_Ticket_49  SVD_Ticket_50  SVD_Ticket_51  \\\n",
       "0       0.000014      -0.000147  -4.172325e-07       0.000117       0.000546   \n",
       "1      -0.001976      -0.000342  -1.306534e-03      -0.000688      -0.011894   \n",
       "2      -0.007881       0.053619   1.849365e-02       0.055878       0.028458   \n",
       "3      -0.001437       0.002012   1.558685e-02       0.015488      -0.013947   \n",
       "4       0.000206       0.001072  -9.412766e-04      -0.000313      -0.000579   \n",
       "\n",
       "   SVD_Ticket_52  SVD_Ticket_53  SVD_Ticket_54  SVD_Ticket_55  SVD_Ticket_56  \\\n",
       "0       0.000556       0.000725      -0.000019       0.000702      -0.000842   \n",
       "1      -0.006683      -0.009178      -0.007912       0.011856       0.004517   \n",
       "2       0.035828      -0.004185      -0.000137       0.021835      -0.028473   \n",
       "3       0.010391      -0.015007      -0.006130      -0.000501       0.007496   \n",
       "4       0.000307      -0.000155      -0.000607       0.000511      -0.000334   \n",
       "\n",
       "   SVD_Ticket_57  SVD_Ticket_58  SVD_Ticket_59  SVD_Ticket_60  SVD_Ticket_61  \\\n",
       "0       0.001052       0.000802       0.000806       0.001081       0.000229   \n",
       "1      -0.006004      -0.002007       0.015526      -0.005577       0.008316   \n",
       "2       0.089905       0.013145       0.042877      -0.061493       0.054474   \n",
       "3       0.013199      -0.031342       0.000758       0.000978       0.019272   \n",
       "4       0.000573      -0.001597      -0.000824       0.001813      -0.000838   \n",
       "\n",
       "   SVD_Ticket_62  SVD_Ticket_63  Pclass_count  Sex_count  Embarked_count  \\\n",
       "0      -0.000713       0.000825           709        843             914   \n",
       "1      -0.005981      -0.017822           323        466             272   \n",
       "2      -0.002707       0.049500           709        466             914   \n",
       "3       0.017075       0.072083           323        466             914   \n",
       "4       0.000478       0.000762           709        843             914   \n",
       "\n",
       "   FamilySize_count  IsAlone_count  Title_Group_count  CabinBool_count  \\\n",
       "0               235            519                758             1014   \n",
       "1               235            519                518              295   \n",
       "2               790            790                518             1014   \n",
       "3               235            519                518              295   \n",
       "4               790            790                758             1014   \n",
       "\n",
       "   FamilySize_target  Embarked_target  Pclass_target  CabinBool_target  \\\n",
       "0           0.557252         0.338583       0.235294          0.291139   \n",
       "1           0.557252         0.537931       0.627907          0.687500   \n",
       "2           0.331754         0.350394       0.251295          0.316940   \n",
       "3           0.530769         0.342256       0.635294          0.666667   \n",
       "4           0.289720         0.338583       0.235294          0.291139   \n",
       "\n",
       "   Title_Group_target  Pclass_1  Pclass_2  Pclass_3  Sex_0  Sex_1  Embarked_0  \\\n",
       "0            0.141119         0         0         1      1      0           1   \n",
       "1            0.721429         1         0         0      0      1           0   \n",
       "2            0.728522         0         0         1      0      1           1   \n",
       "3            0.708633         1         0         0      0      1           1   \n",
       "4            0.141119         0         0         1      1      0           1   \n",
       "\n",
       "   Embarked_1  Embarked_2  IsAlone_0  IsAlone_1  FamilySize_1  FamilySize_2  \\\n",
       "0           0           0          1          0             0             1   \n",
       "1           1           0          1          0             0             1   \n",
       "2           0           0          0          1             1             0   \n",
       "3           0           0          1          0             0             1   \n",
       "4           0           0          0          1             1             0   \n",
       "\n",
       "   FamilySize_3  FamilySize_4  FamilySize_5  FamilySize_6  FamilySize_7  \\\n",
       "0             0             0             0             0             0   \n",
       "1             0             0             0             0             0   \n",
       "2             0             0             0             0             0   \n",
       "3             0             0             0             0             0   \n",
       "4             0             0             0             0             0   \n",
       "\n",
       "   FamilySize_8  FamilySize_11  CabinBool_0  CabinBool_1  Title_Group_0  \\\n",
       "0             0              0            0            1              1   \n",
       "1             0              0            1            0              0   \n",
       "2             0              0            0            1              0   \n",
       "3             0              0            1            0              0   \n",
       "4             0              0            0            1              1   \n",
       "\n",
       "   Title_Group_1  Title_Group_2  Title_Group_3  Title_Group_4  \n",
       "0              0              0              0              0  \n",
       "1              0              0              1              0  \n",
       "2              0              0              1              0  \n",
       "3              0              0              1              0  \n",
       "4              0              0              0              0  "
      ]
     },
     "execution_count": 50,
     "metadata": {},
     "output_type": "execute_result"
    }
   ],
   "source": [
    "# One-Hot Eocnding\n",
    "dummies_column = ['Pclass', 'Sex', 'Embarked', 'IsAlone', 'FamilySize', 'CabinBool', 'Title_Group']\n",
    "x_train_nn = pd.get_dummies(x_train, columns=dummies_column)\n",
    "x_test_nn  = pd.get_dummies(x_test,  columns=dummies_column)\n",
    "\n",
    "# Confirm\n",
    "print(x_train_nn.shape, x_test_nn.shape)\n",
    "x_train_nn.head()"
   ]
  },
  {
   "cell_type": "code",
   "execution_count": 51,
   "metadata": {},
   "outputs": [
    {
     "name": "stdout",
     "output_type": "stream",
     "text": [
      "(891, 166) (418, 166) (891,)\n"
     ]
    }
   ],
   "source": [
    "# to array\n",
    "x_train_nn = np.array(x_train_nn)\n",
    "x_test_nn  = np.array(x_test_nn)\n",
    "y_train_nn = np.array(y_train)\n",
    "\n",
    "# Standardization\n",
    "scaler = StandardScaler()\n",
    "x_train_nn = scaler.fit_transform(x_train_nn)\n",
    "x_test_nn = scaler.transform(x_test_nn)\n",
    "\n",
    "# Confirm\n",
    "print(x_train_nn.shape, x_test_nn.shape, y_train_nn.shape)"
   ]
  },
  {
   "cell_type": "code",
   "execution_count": 52,
   "metadata": {},
   "outputs": [
    {
     "name": "stdout",
     "output_type": "stream",
     "text": [
      "_________________________________________________________________\n",
      "Layer (type)                 Output Shape              Param #   \n",
      "=================================================================\n",
      "dense_1 (Dense)              (None, 512)               85504     \n",
      "_________________________________________________________________\n",
      "batch_normalization_1 (Batch (None, 512)               2048      \n",
      "_________________________________________________________________\n",
      "dropout_1 (Dropout)          (None, 512)               0         \n",
      "_________________________________________________________________\n",
      "activation_1 (Activation)    (None, 512)               0         \n",
      "_________________________________________________________________\n",
      "dense_2 (Dense)              (None, 128)               65664     \n",
      "_________________________________________________________________\n",
      "batch_normalization_2 (Batch (None, 128)               512       \n",
      "_________________________________________________________________\n",
      "dropout_2 (Dropout)          (None, 128)               0         \n",
      "_________________________________________________________________\n",
      "activation_2 (Activation)    (None, 128)               0         \n",
      "_________________________________________________________________\n",
      "dense_3 (Dense)              (None, 16)                2064      \n",
      "_________________________________________________________________\n",
      "batch_normalization_3 (Batch (None, 16)                64        \n",
      "_________________________________________________________________\n",
      "dropout_3 (Dropout)          (None, 16)                0         \n",
      "_________________________________________________________________\n",
      "activation_3 (Activation)    (None, 16)                0         \n",
      "_________________________________________________________________\n",
      "dense_4 (Dense)              (None, 2)                 34        \n",
      "=================================================================\n",
      "Total params: 155,890\n",
      "Trainable params: 154,578\n",
      "Non-trainable params: 1,312\n",
      "_________________________________________________________________\n"
     ]
    }
   ],
   "source": [
    "#------------------------------\n",
    "# Build Model\n",
    "#------------------------------\n",
    "def model_nn(init = \"he_normal\", activation = \"relu\", dropout = 0.45, optimizer = \"adam\"):    \n",
    "    # Build model\n",
    "    model = Sequential()\n",
    "\n",
    "    model.add(Dense(512, input_shape=(x_train_nn.shape[1],), kernel_initializer=init))\n",
    "    model.add(BatchNormalization())\n",
    "    model.add(Dropout(dropout))\n",
    "    model.add(Activation(activation))\n",
    "    \n",
    "    model.add(Dense(128, kernel_initializer=init))\n",
    "    model.add(BatchNormalization())\n",
    "    model.add(Dropout(dropout))\n",
    "    model.add(Activation(activation))\n",
    "    \n",
    "    model.add(Dense(16, kernel_initializer=init))\n",
    "    model.add(BatchNormalization())\n",
    "    model.add(Dropout(dropout))\n",
    "    model.add(Activation(activation))\n",
    "    \n",
    "    model.add(Dense(2, activation='softmax'))\n",
    "\n",
    "    model.compile(loss='categorical_crossentropy', optimizer=optimizer, metrics=['accuracy'])\n",
    "    \n",
    "    return model\n",
    "\n",
    "# Confirm\n",
    "model=model_nn()\n",
    "model.summary()"
   ]
  },
  {
   "cell_type": "code",
   "execution_count": 53,
   "metadata": {},
   "outputs": [],
   "source": [
    "# number of Fold\n",
    "fold_num = 5\n",
    "\n",
    "# Initialize y_pred\n",
    "y_preds_nn = np.zeros(x_test_nn.shape[0])\n",
    "\n",
    "# fix random seed for reproducibility\n",
    "seed = 227\n",
    "np.random.seed(seed)\n",
    "\n",
    "# Defile kfold cross validation\n",
    "kfold = StratifiedKFold(n_splits=fold_num, shuffle=True, random_state=seed)\n",
    "cvscores = []\n",
    "\n",
    "# Set parameter\n",
    "batch_size = 256\n",
    "epochs = 200\n",
    "early_stopping = EarlyStopping(patience=30, verbose=1, monitor='val_loss', restore_best_weights=True)"
   ]
  },
  {
   "cell_type": "code",
   "execution_count": 54,
   "metadata": {},
   "outputs": [
    {
     "name": "stdout",
     "output_type": "stream",
     "text": [
      "\n",
      " Train Neural Network:  1\n",
      "Restoring model weights from the end of the best epoch\n",
      "Epoch 00071: early stopping\n",
      "179/179 [==============================] - 0s 59us/step\n",
      "acc: 82.68%\n",
      "\n",
      " Train Neural Network:  2\n",
      "Restoring model weights from the end of the best epoch\n",
      "Epoch 00049: early stopping\n",
      "179/179 [==============================] - 0s 58us/step\n",
      "acc: 82.68%\n",
      "\n",
      " Train Neural Network:  3\n",
      "Restoring model weights from the end of the best epoch\n",
      "Epoch 00101: early stopping\n",
      "178/178 [==============================] - 0s 55us/step\n",
      "acc: 82.02%\n",
      "\n",
      " Train Neural Network:  4\n",
      "Restoring model weights from the end of the best epoch\n",
      "Epoch 00041: early stopping\n",
      "178/178 [==============================] - 0s 59us/step\n",
      "acc: 79.78%\n",
      "\n",
      " Train Neural Network:  5\n",
      "Restoring model weights from the end of the best epoch\n",
      "Epoch 00050: early stopping\n",
      "177/177 [==============================] - 0s 62us/step\n",
      "acc: 79.66%\n",
      "----------\n",
      "validation score:  81.36% (+/- 1.37%)\n",
      "----------\n",
      "CPU times: user 48.9 s, sys: 3.05 s, total: 51.9 s\n",
      "Wall time: 33.5 s\n"
     ]
    }
   ],
   "source": [
    "%%time\n",
    "for fold_index, (train, valid) in enumerate(kfold.split(x_train_nn, y_train_nn)):\n",
    "    # Print fold_index\n",
    "    print('\\n Train Neural Network: ', fold_index+1)\n",
    "    \n",
    "    # Set Model\n",
    "    model = model_nn()\n",
    "\n",
    "    # Train\n",
    "    model.fit(x=x_train_nn[train], y=to_categorical(y_train_nn[train], 2),\n",
    "              validation_data = (x_train_nn[valid], to_categorical(y_train_nn[valid], 2)),\n",
    "              batch_size=batch_size, epochs=epochs,\n",
    "              callbacks=[early_stopping, LearningRateScheduler(lr_schedule)],\n",
    "              verbose=0,\n",
    "             )\n",
    "\n",
    "    # Evaliate\n",
    "    scores = model.evaluate(x_train_nn[valid], to_categorical(y_train_nn[valid], 2))\n",
    "    print(\"%s: %.2f%%\" % (model.metrics_names[1], scores[1]*100))\n",
    "    cvscores.append(scores[1] * 100)\n",
    "    \n",
    "    # Predict\n",
    "    y_preds_nn += model.predict_proba(x_test_nn)[:,1] / fold_num\n",
    "\n",
    "# print validation score\n",
    "print('-'*10)\n",
    "print('validation score: ', \"%.2f%% (+/- %.2f%%)\" % (np.mean(cvscores), np.std(cvscores)))\n",
    "print('-'*10)"
   ]
  },
  {
   "cell_type": "code",
   "execution_count": 55,
   "metadata": {},
   "outputs": [
    {
     "data": {
      "text/plain": [
       "array([0.0817296 , 0.73436971, 0.25335287, 0.19152853, 0.60392598,\n",
       "       0.10904288, 0.84767504, 0.60930774, 0.70773888, 0.09842517])"
      ]
     },
     "execution_count": 55,
     "metadata": {},
     "output_type": "execute_result"
    }
   ],
   "source": [
    "# Check y_preds\n",
    "y_preds_nn[:10]"
   ]
  },
  {
   "cell_type": "code",
   "execution_count": 56,
   "metadata": {},
   "outputs": [
    {
     "data": {
      "text/html": [
       "<div>\n",
       "<style scoped>\n",
       "    .dataframe tbody tr th:only-of-type {\n",
       "        vertical-align: middle;\n",
       "    }\n",
       "\n",
       "    .dataframe tbody tr th {\n",
       "        vertical-align: top;\n",
       "    }\n",
       "\n",
       "    .dataframe thead th {\n",
       "        text-align: right;\n",
       "    }\n",
       "</style>\n",
       "<table border=\"1\" class=\"dataframe\">\n",
       "  <thead>\n",
       "    <tr style=\"text-align: right;\">\n",
       "      <th></th>\n",
       "      <th>count</th>\n",
       "      <th>mean</th>\n",
       "      <th>std</th>\n",
       "      <th>min</th>\n",
       "      <th>25%</th>\n",
       "      <th>50%</th>\n",
       "      <th>75%</th>\n",
       "      <th>max</th>\n",
       "    </tr>\n",
       "  </thead>\n",
       "  <tbody>\n",
       "    <tr>\n",
       "      <td>0</td>\n",
       "      <td>418.0</td>\n",
       "      <td>0.424328</td>\n",
       "      <td>0.320205</td>\n",
       "      <td>0.026813</td>\n",
       "      <td>0.113238</td>\n",
       "      <td>0.317626</td>\n",
       "      <td>0.745703</td>\n",
       "      <td>0.980703</td>\n",
       "    </tr>\n",
       "  </tbody>\n",
       "</table>\n",
       "</div>"
      ],
      "text/plain": [
       "   count      mean       std       min       25%       50%       75%       max\n",
       "0  418.0  0.424328  0.320205  0.026813  0.113238  0.317626  0.745703  0.980703"
      ]
     },
     "execution_count": 56,
     "metadata": {},
     "output_type": "execute_result"
    }
   ],
   "source": [
    "# Check y_preds describe\n",
    "pd.DataFrame(y_preds_nn).describe().T"
   ]
  },
  {
   "cell_type": "code",
   "execution_count": 57,
   "metadata": {},
   "outputs": [
    {
     "data": {
      "image/png": "[encoded data removed]",
      "text/plain": [
       "<Figure size 432x288 with 1 Axes>"
      ]
     },
     "metadata": {
      "needs_background": "light"
     },
     "output_type": "display_data"
    },
    {
     "name": "stdout",
     "output_type": "stream",
     "text": [
      "0    0.578947\n",
      "1    0.421053\n",
      "dtype: float64\n"
     ]
    }
   ],
   "source": [
    "# Distribution of y_preds\n",
    "y_preds_nn_int = np.round(y_preds_nn).astype(np.int8)\n",
    "sns.countplot(x=0, data=pd.DataFrame(y_preds_nn_int))\n",
    "plt.show()\n",
    "\n",
    "print(pd.Series(y_preds_nn_int).value_counts(normalize=True))"
   ]
  },
  {
   "cell_type": "markdown",
   "metadata": {},
   "source": [
    "## ★ Check the Answer ★"
   ]
  },
  {
   "cell_type": "code",
   "execution_count": 58,
   "metadata": {},
   "outputs": [
    {
     "name": "stdout",
     "output_type": "stream",
     "text": [
      "0.7870813397129187\n"
     ]
    }
   ],
   "source": [
    "# LightGBM\n",
    "acc_all = accuracy_score(df_true_sub.Survived.values, y_preds_lgbm_int)\n",
    "print(acc_all)"
   ]
  },
  {
   "cell_type": "code",
   "execution_count": 59,
   "metadata": {},
   "outputs": [
    {
     "name": "stdout",
     "output_type": "stream",
     "text": [
      "0.7942583732057417\n"
     ]
    }
   ],
   "source": [
    "# XGBoost\n",
    "acc_all = accuracy_score(df_true_sub.Survived.values, y_preds_xgb_int)\n",
    "print(acc_all)"
   ]
  },
  {
   "cell_type": "code",
   "execution_count": 60,
   "metadata": {},
   "outputs": [
    {
     "name": "stdout",
     "output_type": "stream",
     "text": [
      "0.7751196172248804\n"
     ]
    }
   ],
   "source": [
    "# NeuralNetwork\n",
    "acc_all = accuracy_score(df_true_sub.Survived.values, y_preds_nn_int)\n",
    "print(acc_all)"
   ]
  },
  {
   "cell_type": "code",
   "execution_count": 61,
   "metadata": {},
   "outputs": [
    {
     "name": "stdout",
     "output_type": "stream",
     "text": [
      "0.7942583732057417\n"
     ]
    }
   ],
   "source": [
    "# Ensemble (LGBM + XGB)\n",
    "y_preds_ens1 = (y_preds_lgbm + y_preds_xgb) / 2\n",
    "y_preds_ens1_int = np.round(y_preds_ens1).astype(np.int8)\n",
    "acc_all = accuracy_score(df_true_sub.Survived.values, y_preds_ens1_int)\n",
    "print(acc_all)"
   ]
  },
  {
   "cell_type": "code",
   "execution_count": 62,
   "metadata": {},
   "outputs": [
    {
     "name": "stdout",
     "output_type": "stream",
     "text": [
      "0.8038277511961722\n"
     ]
    }
   ],
   "source": [
    "# Ensemble (LGBM + NN)\n",
    "y_preds_ens2 = (y_preds_lgbm + y_preds_nn) / 2\n",
    "y_preds_ens2_int = np.round(y_preds_ens2).astype(np.int8)\n",
    "acc_all = accuracy_score(df_true_sub.Survived.values, y_preds_ens2_int)\n",
    "print(acc_all)"
   ]
  },
  {
   "cell_type": "code",
   "execution_count": 63,
   "metadata": {},
   "outputs": [
    {
     "name": "stdout",
     "output_type": "stream",
     "text": [
      "0.80622009569378\n"
     ]
    }
   ],
   "source": [
    "# Ensemble (XGB + NN)\n",
    "y_preds_ens3 = (y_preds_xgb + y_preds_nn) / 2\n",
    "y_preds_ens3_int = np.round(y_preds_ens3).astype(np.int8)\n",
    "acc_all = accuracy_score(df_true_sub.Survived.values, y_preds_ens3_int)\n",
    "print(acc_all)"
   ]
  },
  {
   "cell_type": "code",
   "execution_count": 64,
   "metadata": {},
   "outputs": [
    {
     "name": "stdout",
     "output_type": "stream",
     "text": [
      "0.8086124401913876\n"
     ]
    }
   ],
   "source": [
    "# Ensemble (LGBM + XGB + NN)\n",
    "y_preds_ens4 = (y_preds_lgbm + y_preds_xgb + y_preds_nn) / 3\n",
    "y_preds_ens4_int = np.round(y_preds_ens4).astype(np.int8)\n",
    "acc_all = accuracy_score(df_true_sub.Survived.values, y_preds_ens4_int)\n",
    "print(acc_all)"
   ]
  },
  {
   "cell_type": "markdown",
   "metadata": {},
   "source": [
    "## 6. Create Submission"
   ]
  },
  {
   "cell_type": "markdown",
   "metadata": {},
   "source": [
    "### 6-1. LightGBM"
   ]
  },
  {
   "cell_type": "code",
   "execution_count": 65,
   "metadata": {},
   "outputs": [
    {
     "data": {
      "text/html": [
       "<div>\n",
       "<style scoped>\n",
       "    .dataframe tbody tr th:only-of-type {\n",
       "        vertical-align: middle;\n",
       "    }\n",
       "\n",
       "    .dataframe tbody tr th {\n",
       "        vertical-align: top;\n",
       "    }\n",
       "\n",
       "    .dataframe thead th {\n",
       "        text-align: right;\n",
       "    }\n",
       "</style>\n",
       "<table border=\"1\" class=\"dataframe\">\n",
       "  <thead>\n",
       "    <tr style=\"text-align: right;\">\n",
       "      <th></th>\n",
       "      <th>0</th>\n",
       "      <th>1</th>\n",
       "      <th>2</th>\n",
       "      <th>3</th>\n",
       "      <th>4</th>\n",
       "      <th>5</th>\n",
       "      <th>6</th>\n",
       "      <th>7</th>\n",
       "      <th>8</th>\n",
       "      <th>9</th>\n",
       "    </tr>\n",
       "  </thead>\n",
       "  <tbody>\n",
       "    <tr>\n",
       "      <td>PassengerId</td>\n",
       "      <td>892</td>\n",
       "      <td>893</td>\n",
       "      <td>894</td>\n",
       "      <td>895</td>\n",
       "      <td>896</td>\n",
       "      <td>897</td>\n",
       "      <td>898</td>\n",
       "      <td>899</td>\n",
       "      <td>900</td>\n",
       "      <td>901</td>\n",
       "    </tr>\n",
       "    <tr>\n",
       "      <td>Survived</td>\n",
       "      <td>0</td>\n",
       "      <td>0</td>\n",
       "      <td>0</td>\n",
       "      <td>0</td>\n",
       "      <td>1</td>\n",
       "      <td>0</td>\n",
       "      <td>1</td>\n",
       "      <td>0</td>\n",
       "      <td>0</td>\n",
       "      <td>0</td>\n",
       "    </tr>\n",
       "  </tbody>\n",
       "</table>\n",
       "</div>"
      ],
      "text/plain": [
       "               0    1    2    3    4    5    6    7    8    9\n",
       "PassengerId  892  893  894  895  896  897  898  899  900  901\n",
       "Survived       0    0    0    0    1    0    1    0    0    0"
      ]
     },
     "execution_count": 65,
     "metadata": {},
     "output_type": "execute_result"
    }
   ],
   "source": [
    "sub_lgbm = df_sub.copy()\n",
    "sub_lgbm['Survived'] = y_preds_lgbm_int\n",
    "\n",
    "sub_lgbm.head(10).T"
   ]
  },
  {
   "cell_type": "code",
   "execution_count": 66,
   "metadata": {
    "_uuid": "340b7c4a50a9ff20858f674bcf3d9eca663b72a3"
   },
   "outputs": [],
   "source": [
    "# Output csv file\n",
    "sub_lgbm.to_csv('sub_lgbm.csv', index=False)"
   ]
  },
  {
   "cell_type": "markdown",
   "metadata": {},
   "source": [
    "### 6-2. XGBoost"
   ]
  },
  {
   "cell_type": "code",
   "execution_count": 67,
   "metadata": {},
   "outputs": [
    {
     "data": {
      "text/html": [
       "<div>\n",
       "<style scoped>\n",
       "    .dataframe tbody tr th:only-of-type {\n",
       "        vertical-align: middle;\n",
       "    }\n",
       "\n",
       "    .dataframe tbody tr th {\n",
       "        vertical-align: top;\n",
       "    }\n",
       "\n",
       "    .dataframe thead th {\n",
       "        text-align: right;\n",
       "    }\n",
       "</style>\n",
       "<table border=\"1\" class=\"dataframe\">\n",
       "  <thead>\n",
       "    <tr style=\"text-align: right;\">\n",
       "      <th></th>\n",
       "      <th>0</th>\n",
       "      <th>1</th>\n",
       "      <th>2</th>\n",
       "      <th>3</th>\n",
       "      <th>4</th>\n",
       "      <th>5</th>\n",
       "      <th>6</th>\n",
       "      <th>7</th>\n",
       "      <th>8</th>\n",
       "      <th>9</th>\n",
       "    </tr>\n",
       "  </thead>\n",
       "  <tbody>\n",
       "    <tr>\n",
       "      <td>PassengerId</td>\n",
       "      <td>892</td>\n",
       "      <td>893</td>\n",
       "      <td>894</td>\n",
       "      <td>895</td>\n",
       "      <td>896</td>\n",
       "      <td>897</td>\n",
       "      <td>898</td>\n",
       "      <td>899</td>\n",
       "      <td>900</td>\n",
       "      <td>901</td>\n",
       "    </tr>\n",
       "    <tr>\n",
       "      <td>Survived</td>\n",
       "      <td>0</td>\n",
       "      <td>1</td>\n",
       "      <td>0</td>\n",
       "      <td>0</td>\n",
       "      <td>1</td>\n",
       "      <td>0</td>\n",
       "      <td>1</td>\n",
       "      <td>0</td>\n",
       "      <td>0</td>\n",
       "      <td>0</td>\n",
       "    </tr>\n",
       "  </tbody>\n",
       "</table>\n",
       "</div>"
      ],
      "text/plain": [
       "               0    1    2    3    4    5    6    7    8    9\n",
       "PassengerId  892  893  894  895  896  897  898  899  900  901\n",
       "Survived       0    1    0    0    1    0    1    0    0    0"
      ]
     },
     "execution_count": 67,
     "metadata": {},
     "output_type": "execute_result"
    }
   ],
   "source": [
    "sub_xgb = df_sub.copy()\n",
    "sub_xgb['Survived'] = y_preds_xgb_int\n",
    "\n",
    "sub_xgb.head(10).T"
   ]
  },
  {
   "cell_type": "code",
   "execution_count": 68,
   "metadata": {},
   "outputs": [],
   "source": [
    "# Output csv file\n",
    "sub_xgb.to_csv('sub_xgb.csv', index=False)"
   ]
  },
  {
   "cell_type": "markdown",
   "metadata": {},
   "source": [
    "### 6-3. Neural Network"
   ]
  },
  {
   "cell_type": "code",
   "execution_count": 69,
   "metadata": {},
   "outputs": [
    {
     "data": {
      "text/html": [
       "<div>\n",
       "<style scoped>\n",
       "    .dataframe tbody tr th:only-of-type {\n",
       "        vertical-align: middle;\n",
       "    }\n",
       "\n",
       "    .dataframe tbody tr th {\n",
       "        vertical-align: top;\n",
       "    }\n",
       "\n",
       "    .dataframe thead th {\n",
       "        text-align: right;\n",
       "    }\n",
       "</style>\n",
       "<table border=\"1\" class=\"dataframe\">\n",
       "  <thead>\n",
       "    <tr style=\"text-align: right;\">\n",
       "      <th></th>\n",
       "      <th>0</th>\n",
       "      <th>1</th>\n",
       "      <th>2</th>\n",
       "      <th>3</th>\n",
       "      <th>4</th>\n",
       "      <th>5</th>\n",
       "      <th>6</th>\n",
       "      <th>7</th>\n",
       "      <th>8</th>\n",
       "      <th>9</th>\n",
       "    </tr>\n",
       "  </thead>\n",
       "  <tbody>\n",
       "    <tr>\n",
       "      <td>PassengerId</td>\n",
       "      <td>892</td>\n",
       "      <td>893</td>\n",
       "      <td>894</td>\n",
       "      <td>895</td>\n",
       "      <td>896</td>\n",
       "      <td>897</td>\n",
       "      <td>898</td>\n",
       "      <td>899</td>\n",
       "      <td>900</td>\n",
       "      <td>901</td>\n",
       "    </tr>\n",
       "    <tr>\n",
       "      <td>Survived</td>\n",
       "      <td>0</td>\n",
       "      <td>1</td>\n",
       "      <td>0</td>\n",
       "      <td>0</td>\n",
       "      <td>1</td>\n",
       "      <td>0</td>\n",
       "      <td>1</td>\n",
       "      <td>1</td>\n",
       "      <td>1</td>\n",
       "      <td>0</td>\n",
       "    </tr>\n",
       "  </tbody>\n",
       "</table>\n",
       "</div>"
      ],
      "text/plain": [
       "               0    1    2    3    4    5    6    7    8    9\n",
       "PassengerId  892  893  894  895  896  897  898  899  900  901\n",
       "Survived       0    1    0    0    1    0    1    1    1    0"
      ]
     },
     "execution_count": 69,
     "metadata": {},
     "output_type": "execute_result"
    }
   ],
   "source": [
    "sub_nn = df_sub.copy()\n",
    "sub_nn['Survived'] = y_preds_nn_int\n",
    "\n",
    "sub_nn.head(10).T"
   ]
  },
  {
   "cell_type": "code",
   "execution_count": 70,
   "metadata": {},
   "outputs": [],
   "source": [
    "# Output csv file\n",
    "sub_nn.to_csv('sub_nn.csv', index=False)"
   ]
  },
  {
   "cell_type": "markdown",
   "metadata": {},
   "source": [
    "### 6-4. Ensemble"
   ]
  },
  {
   "cell_type": "code",
   "execution_count": 71,
   "metadata": {},
   "outputs": [],
   "source": [
    "y_preds_ens = (y_preds_lgbm + y_preds_xgb + y_preds_nn) / 3\n",
    "y_preds_ens_int = np.round(y_preds_ens).astype(np.int8)"
   ]
  },
  {
   "cell_type": "code",
   "execution_count": 72,
   "metadata": {},
   "outputs": [
    {
     "data": {
      "text/html": [
       "<div>\n",
       "<style scoped>\n",
       "    .dataframe tbody tr th:only-of-type {\n",
       "        vertical-align: middle;\n",
       "    }\n",
       "\n",
       "    .dataframe tbody tr th {\n",
       "        vertical-align: top;\n",
       "    }\n",
       "\n",
       "    .dataframe thead th {\n",
       "        text-align: right;\n",
       "    }\n",
       "</style>\n",
       "<table border=\"1\" class=\"dataframe\">\n",
       "  <thead>\n",
       "    <tr style=\"text-align: right;\">\n",
       "      <th></th>\n",
       "      <th>0</th>\n",
       "      <th>1</th>\n",
       "      <th>2</th>\n",
       "      <th>3</th>\n",
       "      <th>4</th>\n",
       "      <th>5</th>\n",
       "      <th>6</th>\n",
       "      <th>7</th>\n",
       "      <th>8</th>\n",
       "      <th>9</th>\n",
       "    </tr>\n",
       "  </thead>\n",
       "  <tbody>\n",
       "    <tr>\n",
       "      <td>PassengerId</td>\n",
       "      <td>892</td>\n",
       "      <td>893</td>\n",
       "      <td>894</td>\n",
       "      <td>895</td>\n",
       "      <td>896</td>\n",
       "      <td>897</td>\n",
       "      <td>898</td>\n",
       "      <td>899</td>\n",
       "      <td>900</td>\n",
       "      <td>901</td>\n",
       "    </tr>\n",
       "    <tr>\n",
       "      <td>Survived</td>\n",
       "      <td>0</td>\n",
       "      <td>1</td>\n",
       "      <td>0</td>\n",
       "      <td>0</td>\n",
       "      <td>1</td>\n",
       "      <td>0</td>\n",
       "      <td>1</td>\n",
       "      <td>0</td>\n",
       "      <td>1</td>\n",
       "      <td>0</td>\n",
       "    </tr>\n",
       "  </tbody>\n",
       "</table>\n",
       "</div>"
      ],
      "text/plain": [
       "               0    1    2    3    4    5    6    7    8    9\n",
       "PassengerId  892  893  894  895  896  897  898  899  900  901\n",
       "Survived       0    1    0    0    1    0    1    0    1    0"
      ]
     },
     "execution_count": 72,
     "metadata": {},
     "output_type": "execute_result"
    }
   ],
   "source": [
    "sub_ens = df_sub.copy()\n",
    "sub_ens['Survived'] = y_preds_ens_int\n",
    "\n",
    "sub_ens.head(10).T"
   ]
  },
  {
   "cell_type": "code",
   "execution_count": 73,
   "metadata": {},
   "outputs": [],
   "source": [
    "# Output csv file\n",
    "sub_ens.to_csv('sub_ens.csv', index=False)"
   ]
  },
  {
   "cell_type": "code",
   "execution_count": null,
   "metadata": {},
   "outputs": [],
   "source": []
  }
 ],
 "metadata": {
  "kernelspec": {
   "display_name": "Python 3",
   "language": "python",
   "name": "python3"
  },
  "language_info": {
   "codemirror_mode": {
    "name": "ipython",
    "version": 3
   },
   "file_extension": ".py",
   "mimetype": "text/x-python",
   "name": "python",
   "nbconvert_exporter": "python",
   "pygments_lexer": "ipython3",
   "version": "3.6.6"
  }
 },
 "nbformat": 4,
 "nbformat_minor": 1
}
